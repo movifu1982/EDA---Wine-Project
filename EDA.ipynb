{
 "cells": [
  {
   "cell_type": "code",
   "execution_count": 63,
   "metadata": {},
   "outputs": [],
   "source": [
    "import numpy as np\n",
    "import pandas as pd\n",
    "import matplotlib.pyplot as plt\n",
    "import seaborn as sns"
   ]
  },
  {
   "cell_type": "code",
   "execution_count": 25,
   "metadata": {},
   "outputs": [],
   "source": [
    "red_wine = pd.read_csv('https://archive.ics.uci.edu/ml/machine-learning-databases/wine-quality/winequality-red.csv', sep=\";\")\n",
    "white_wine = pd.read_csv('https://archive.ics.uci.edu/ml/machine-learning-databases/wine-quality/winequality-white.csv', sep=\";\")\n"
   ]
  },
  {
   "cell_type": "code",
   "execution_count": 26,
   "metadata": {},
   "outputs": [],
   "source": [
    "#red_wine.head(10)\n",
    "#red_wine.tail(10)\n",
    "\n",
    "\n",
    "#white_wine.tail(10)\n",
    "#white_wine.head(10)"
   ]
  },
  {
   "cell_type": "code",
   "execution_count": 27,
   "metadata": {},
   "outputs": [],
   "source": [
    "#red_wine.info\n",
    "\n",
    "#red_wine.shape\n",
    "\n",
    "#white_wine.info\n",
    "\n",
    "#white_wine.shape[0]"
   ]
  },
  {
   "cell_type": "code",
   "execution_count": 28,
   "metadata": {},
   "outputs": [],
   "source": [
    "#red_wine.isna\n",
    "\n",
    "#white_wine.isna"
   ]
  },
  {
   "cell_type": "code",
   "execution_count": 29,
   "metadata": {},
   "outputs": [],
   "source": [
    "#red_wine.describe\n",
    "#white_wine.describe"
   ]
  },
  {
   "cell_type": "code",
   "execution_count": 56,
   "metadata": {},
   "outputs": [],
   "source": [
    "#red_wine['quality_label'] = red_wine['quality'].apply(lambda value: 'low'\n",
    "#if value <= 5 else 'medium'\n",
    "#if value <= 7 else 'high')\n",
    "\n",
    "#red_wine['quality_label'] = pd.Categorical(red_wine['quality_label'],\n",
    "#categories=['low', 'medium', 'high'])\n",
    "\n",
    "#red_wine"
   ]
  },
  {
   "cell_type": "code",
   "execution_count": 31,
   "metadata": {},
   "outputs": [],
   "source": [
    "white_wine['quality_label'] = white_wine['quality'].apply(lambda value: 'low'\n",
    "if value <= 5 else 'medium'\n",
    "if value <= 7 else 'high')\n",
    "\n",
    "white_wine['quality_label'] = pd.Categorical(white_wine['quality_label'],\n",
    "categories=['low', 'medium', 'high'])\n",
    "\n",
    "#white_wine"
   ]
  },
  {
   "cell_type": "code",
   "execution_count": 32,
   "metadata": {},
   "outputs": [],
   "source": [
    "#pd.concat([red_wine.describe(), white_wine.describe()], axis=1, keys=[\"Red Wines Stats\", \"White Wines Stats\"])"
   ]
  },
  {
   "cell_type": "code",
   "execution_count": 33,
   "metadata": {},
   "outputs": [],
   "source": [
    "#Possible hypothesis:\n",
    "#the less alcohol, the higher the quality?\n",
    "#white has more citric acidy = more sugar?\n",
    "#red has twice as much sulphates?"
   ]
  },
  {
   "cell_type": "code",
   "execution_count": 34,
   "metadata": {},
   "outputs": [],
   "source": [
    "#The first plot you should do is a pie chart, showing the quantity of red wines compared to the quantity of white wines.\n",
    "\n",
    "#fig = plt.figure()\n",
    "#fig.patch.set_facecolor('xkcd:white')\n",
    "#labels = [\"White wine\", \"Red wine\"]\n",
    "#wine_values = [white_wine.shape[0], red_wine.shape[0]]\n",
    "#explode = (0.1, 0)\n",
    "#plt.axis(\"equal\")\n",
    "#plt.pie(wine_values, explode=explode, labels=labels,radius=1.5, startangle=90, autopct='%1.1f%%')\n",
    "#plt.show()\n"
   ]
  },
  {
   "cell_type": "code",
   "execution_count": 35,
   "metadata": {},
   "outputs": [],
   "source": [
    "#Now create a plot to show the distribution of qualities. Check the presentation.\n",
    "\n",
    "from turtle import color\n",
    "\n",
    "\n",
    "white_wine['quality_label'] = white_wine['quality'].apply(lambda value: 'low'\n",
    "if value <= 5 else 'medium'\n",
    "if value <= 7 else 'high')\n",
    "\n",
    "white_wine['quality_label'] = pd.Categorical(white_wine['quality_label'],\n",
    "categories=['low', 'medium', 'high'])\n",
    "\n",
    "#red_wine['quality_label'] = red_wine['quality'].apply(lambda value: 'low'\n",
    "#if value <= 5 else 'medium'\n",
    "#if value <= 7 else 'high')\n",
    "\n",
    "#red_wine['quality_label'] = pd.Categorical(red_wine['quality_label'],\n",
    "#categories=['low', 'medium', 'high'])\n",
    "\n",
    "# plt.hist(red_wine)\n",
    "\n",
    "\n",
    "#comparison = red_wine[\"quality\"].value_counts()\n",
    "#plt.figure(figsize=(10,6))\n",
    "#plt.bar(comparison.index.comparison, width=0.9, color= \"red\")\n",
    "#plt.title(\"title\")\n",
    "#plt.xlabel(\"Quality\")\n",
    "#plt.ylabel(\"Count\")\n",
    "#plt.xticks(rotation=45)\n",
    "#plt.show()\n"
   ]
  },
  {
   "cell_type": "code",
   "execution_count": 36,
   "metadata": {},
   "outputs": [],
   "source": [
    "#red_wine"
   ]
  },
  {
   "cell_type": "code",
   "execution_count": 37,
   "metadata": {},
   "outputs": [
    {
     "data": {
      "text/plain": [
       "medium    837\n",
       "low       744\n",
       "high       18\n",
       "Name: quality_label, dtype: int64"
      ]
     },
     "execution_count": 37,
     "metadata": {},
     "output_type": "execute_result"
    }
   ],
   "source": [
    "red_comparison = red_wine[\"quality_label\"].value_counts()\n",
    "red_comparison"
   ]
  },
  {
   "cell_type": "code",
   "execution_count": 38,
   "metadata": {},
   "outputs": [
    {
     "data": {
      "image/png": "[encoded data removed]",
      "text/plain": [
       "<Figure size 720x432 with 1 Axes>"
      ]
     },
     "metadata": {
      "needs_background": "light"
     },
     "output_type": "display_data"
    }
   ],
   "source": [
    "#Matplotlib\n",
    "\n",
    "plt.figure(figsize=(10,6))\n",
    "plt.bar(red_comparison.index, red_comparison, width=0.9, color= \"red\")\n",
    "plt.title(\"title\")\n",
    "plt.xlabel(\"Quality\")\n",
    "plt.ylabel(\"Count\")\n",
    "plt.xticks(rotation=45)\n",
    "plt.show()"
   ]
  },
  {
   "cell_type": "code",
   "execution_count": 39,
   "metadata": {},
   "outputs": [],
   "source": [
    "#seaborne\n",
    "\n",
    "#sns.histplot(data=red_wine, x=\"quality_label\", color=\"red\")"
   ]
  },
  {
   "cell_type": "code",
   "execution_count": 40,
   "metadata": {},
   "outputs": [
    {
     "data": {
      "text/plain": [
       "medium    3078\n",
       "low       1640\n",
       "high       180\n",
       "Name: quality_label, dtype: int64"
      ]
     },
     "execution_count": 40,
     "metadata": {},
     "output_type": "execute_result"
    }
   ],
   "source": [
    "white_comparison = white_wine[\"quality_label\"].value_counts()\n",
    "white_comparison"
   ]
  },
  {
   "cell_type": "code",
   "execution_count": 41,
   "metadata": {},
   "outputs": [
    {
     "data": {
      "image/png": "[encoded data removed]",
      "text/plain": [
       "<Figure size 432x576 with 1 Axes>"
      ]
     },
     "metadata": {
      "needs_background": "light"
     },
     "output_type": "display_data"
    }
   ],
   "source": [
    "#Matplotlib\n",
    "\n",
    "plt.figure(figsize=(6,8))\n",
    "plt.bar(white_comparison.index, white_comparison, width=0.9, color= \"black\")\n",
    "\n",
    "\n",
    "plt.title(\"title\")\n",
    "plt.xlabel(\"Quality\")\n",
    "plt.ylabel(\"Count\")\n",
    "plt.xticks(rotation=45)\n",
    "plt.show()\n",
    "\n",
    "#get the columns in order"
   ]
  },
  {
   "cell_type": "code",
   "execution_count": 42,
   "metadata": {},
   "outputs": [],
   "source": [
    "#seaborne\n",
    "\n",
    "#sns.histplot(data=white_wine, x=\"quality_label\", color=\"white\")"
   ]
  },
  {
   "cell_type": "code",
   "execution_count": 44,
   "metadata": {},
   "outputs": [
    {
     "data": {
      "image/png": "[encoded data removed]",
      "text/plain": [
       "<Figure size 432x504 with 2 Axes>"
      ]
     },
     "metadata": {
      "needs_background": "light"
     },
     "output_type": "display_data"
    }
   ],
   "source": [
    "#Now try to compare the quality with some other features. Try reproducing the following box plot.\n",
    "\n",
    "data = [white_comparison, red_comparison]\n",
    "\n",
    "fig = plt.figure(figsize =(6, 7))\n",
    "plt.boxplot(red_comparison), (white_comparison)\n",
    "ax = fig.add_axes([0, 0, 1, 1])\n",
    "bp = ax.boxplot(data)\n",
    "\n",
    "plt.show()"
   ]
  },
  {
   "cell_type": "code",
   "execution_count": 66,
   "metadata": {},
   "outputs": [
    {
     "data": {
      "image/png": "[encoded data removed]",
      "text/plain": [
       "<Figure size 432x288 with 1 Axes>"
      ]
     },
     "metadata": {
      "needs_background": "light"
     },
     "output_type": "display_data"
    }
   ],
   "source": [
    "#own attempt\n",
    "\n",
    "fig, ax = plt.subplots()\n",
    "ax.boxplot(data)\n",
    "\n",
    "plt.show()\n",
    "\n",
    "\n"
   ]
  },
  {
   "cell_type": "code",
   "execution_count": 69,
   "metadata": {},
   "outputs": [],
   "source": [
    "import pandas as pd\n",
    "import matplotlib.pyplot as plt\n",
    "%matplotlib inline"
   ]
  },
  {
   "cell_type": "code",
   "execution_count": 71,
   "metadata": {},
   "outputs": [
    {
     "data": {
      "text/plain": [
       "Index(['fixed acidity', 'volatile acidity', 'citric acid', 'residual sugar',\n",
       "       'chlorides', 'free sulfur dioxide', 'total sulfur dioxide', 'density',\n",
       "       'pH', 'sulphates', 'alcohol', 'quality', 'quality_label'],\n",
       "      dtype='object')"
      ]
     },
     "execution_count": 71,
     "metadata": {},
     "output_type": "execute_result"
    }
   ],
   "source": [
    "red_wine.columns"
   ]
  },
  {
   "cell_type": "code",
   "execution_count": 86,
   "metadata": {},
   "outputs": [
    {
     "data": {
      "image/png": "[encoded data removed]",
      "text/plain": [
       "<Figure size 432x288 with 1 Axes>"
      ]
     },
     "metadata": {
      "needs_background": "light"
     },
     "output_type": "display_data"
    }
   ],
   "source": [
    "#plt.boxplot(red_wine.alcohol)\n",
    "\n",
    "\n",
    "labels = [\"Red\", \"White\"]\n",
    "boxes = plt.boxplot([red_comparison, white_comparison],labels=labels, patch_artist=True)\n",
    "for box in boxes[\"boxes\"]:\n",
    "    box.set(color=\"#4286f4\", linewidth=2)\n",
    "    box.set(facecolor=\"#e0e0e0\")\n",
    "\n",
    "\n",
    "plt.title(\"Comparison\")\n",
    "plt.ylabel(\"Amount?\")\n",
    "plt.show()\n",
    "\n"
   ]
  },
  {
   "cell_type": "code",
   "execution_count": 45,
   "metadata": {},
   "outputs": [
    {
     "data": {
      "image/png": "[encoded data removed]",
      "text/plain": [
       "<Figure size 432x288 with 2 Axes>"
      ]
     },
     "metadata": {
      "needs_background": "light"
     },
     "output_type": "display_data"
    }
   ],
   "source": [
    "fig, axs = plt.subplots(1, 2, sharey=\"row\", tight_layout=True)\n",
    "\n",
    "axs[0].set_title(\"Red\")\n",
    "axs[1].set_title(\"White\")\n",
    "\n",
    "axs[0].hist(red_wine['alcohol'], color='red', bins=80,\n",
    "         edgecolor='black', linewidth=1.1)\n",
    "axs[1].hist(white_wine['alcohol'], color='blue', bins=80,\n",
    "         edgecolor='black', linewidth=1.1)\n",
    "plt.show()"
   ]
  },
  {
   "cell_type": "code",
   "execution_count": 46,
   "metadata": {},
   "outputs": [],
   "source": [
    "#Come up with at least 3 more charts with explanations."
   ]
  }
 ],
 "metadata": {
  "kernelspec": {
   "display_name": "Python 3.9.12 ('base')",
   "language": "python",
   "name": "python3"
  },
  "language_info": {
   "codemirror_mode": {
    "name": "ipython",
    "version": 3
   },
   "file_extension": ".py",
   "mimetype": "text/x-python",
   "name": "python",
   "nbconvert_exporter": "python",
   "pygments_lexer": "ipython3",
   "version": "3.9.12"
  },
  "orig_nbformat": 4,
  "vscode": {
   "interpreter": {
    "hash": "53268d429fe8007277d58353424377c3c56a51408f44f169cee4649a7ccfd4de"
   }
  }
 },
 "nbformat": 4,
 "nbformat_minor": 2
}
