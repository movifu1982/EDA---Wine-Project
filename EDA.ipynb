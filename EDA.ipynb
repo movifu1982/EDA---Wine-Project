{
 "cells": [
  {
   "cell_type": "code",
   "execution_count": 1,
   "metadata": {},
   "outputs": [],
   "source": [
    "import numpy as np\n",
    "import pandas as pd\n",
    "import matplotlib.pyplot as plt\n",
    "import seaborn as sns"
   ]
  },
  {
   "cell_type": "code",
   "execution_count": 2,
   "metadata": {},
   "outputs": [],
   "source": [
    "red_wine = pd.read_csv('https://archive.ics.uci.edu/ml/machine-learning-databases/wine-quality/winequality-red.csv', sep=\";\")\n",
    "white_wine = pd.read_csv('https://archive.ics.uci.edu/ml/machine-learning-databases/wine-quality/winequality-white.csv', sep=\";\")\n"
   ]
  },
  {
   "cell_type": "code",
   "execution_count": 3,
   "metadata": {},
   "outputs": [],
   "source": [
    "#red_wine.head(10)\n",
    "#red_wine.tail(10)\n",
    "\n",
    "#white_wine.tail(10)\n",
    "#white_wine.head(10)"
   ]
  },
  {
   "cell_type": "code",
   "execution_count": 4,
   "metadata": {},
   "outputs": [],
   "source": [
    "#red_wine.info\n",
    "#red_wine.shape\n",
    "#white_wine.info\n",
    "#white_wine.shape[0]"
   ]
  },
  {
   "cell_type": "code",
   "execution_count": 5,
   "metadata": {},
   "outputs": [],
   "source": [
    "#red_wine.isna\n",
    "#white_wine.isna"
   ]
  },
  {
   "cell_type": "code",
   "execution_count": 6,
   "metadata": {},
   "outputs": [],
   "source": [
    "#red_wine.describe\n",
    "#white_wine.describe"
   ]
  },
  {
   "cell_type": "code",
   "execution_count": 7,
   "metadata": {},
   "outputs": [],
   "source": [
    "red_wine['quality_label'] = red_wine['quality'].apply(lambda value: 'low'\n",
    "if value <= 5 else 'medium'\n",
    "if value <= 7 else 'high')\n",
    "\n",
    "red_wine['quality_label'] = pd.Categorical(red_wine['quality_label'],\n",
    "categories=['low', 'medium', 'high'])\n",
    "\n",
    "#red_wine"
   ]
  },
  {
   "cell_type": "code",
   "execution_count": 8,
   "metadata": {},
   "outputs": [],
   "source": [
    "white_wine['quality_label'] = white_wine['quality'].apply(lambda value: 'low'\n",
    "if value <= 5 else 'medium'\n",
    "if value <= 7 else 'high')\n",
    "\n",
    "white_wine['quality_label'] = pd.Categorical(white_wine['quality_label'],\n",
    "categories=['low', 'medium', 'high'])\n",
    "\n",
    "#white_wine"
   ]
  },
  {
   "cell_type": "code",
   "execution_count": 9,
   "metadata": {},
   "outputs": [],
   "source": [
    "#pd.concat([red_wine.describe(), white_wine.describe()], axis=1, keys=[\"Red Wines Stats\", \"White Wines Stats\"])"
   ]
  },
  {
   "cell_type": "code",
   "execution_count": 10,
   "metadata": {},
   "outputs": [],
   "source": [
    "#Possible hypothesis:\n",
    "#the less alcohol, the higher the quality?\n",
    "#white has more citric acidy = more sugar?\n",
    "#red has twice as much sulphates?"
   ]
  },
  {
   "cell_type": "code",
   "execution_count": 11,
   "metadata": {},
   "outputs": [],
   "source": [
    "#The first plot you should do is a pie chart, showing the quantity of red wines compared to the quantity of white wines.\n",
    "\n",
    "#fig = plt.figure()\n",
    "#fig.patch.set_facecolor('xkcd:white')\n",
    "#labels = [\"White wine\", \"Red wine\"]\n",
    "#wine_values = [white_wine.shape[0], red_wine.shape[0]]\n",
    "#explode = (0.1, 0)\n",
    "#plt.axis(\"equal\")\n",
    "#plt.pie(wine_values, explode=explode, labels=labels,radius=1.5, startangle=90, autopct='%1.1f%%')\n",
    "#plt.show()\n"
   ]
  },
  {
   "cell_type": "code",
   "execution_count": 12,
   "metadata": {},
   "outputs": [],
   "source": [
    "#Now create a plot to show the distribution of qualities.\n",
    "\n",
    "from turtle import color\n",
    "\n",
    "white_wine['quality_label'] = white_wine['quality'].apply(lambda value: 'low'\n",
    "if value <= 5 else 'medium'\n",
    "if value <= 7 else 'high')\n",
    "\n",
    "white_wine['quality_label'] = pd.Categorical(white_wine['quality_label'],\n",
    "categories=['low', 'medium', 'high'])\n",
    "\n",
    "#red_wine['quality_label'] = red_wine['quality'].apply(lambda value: 'low'\n",
    "#if value <= 5 else 'medium'\n",
    "#if value <= 7 else 'high')\n",
    "\n",
    "#red_wine['quality_label'] = pd.Categorical(red_wine['quality_label'],\n",
    "#categories=['low', 'medium', 'high'])\n",
    "\n",
    "# plt.hist(red_wine)\n",
    "\n",
    "\n",
    "#comparison = red_wine[\"quality\"].value_counts()\n",
    "#plt.figure(figsize=(10,6))\n",
    "#plt.bar(comparison.index.comparison, width=0.9, color= \"red\")\n",
    "#plt.title(\"title\")\n",
    "#plt.xlabel(\"Quality\")\n",
    "#plt.ylabel(\"Count\")\n",
    "#plt.xticks(rotation=45)\n",
    "#plt.show()\n"
   ]
  },
  {
   "cell_type": "code",
   "execution_count": 13,
   "metadata": {},
   "outputs": [],
   "source": [
    "#red_wine"
   ]
  },
  {
   "cell_type": "code",
   "execution_count": 14,
   "metadata": {},
   "outputs": [
    {
     "data": {
      "text/plain": [
       "medium    837\n",
       "low       744\n",
       "high       18\n",
       "Name: quality_label, dtype: int64"
      ]
     },
     "execution_count": 14,
     "metadata": {},
     "output_type": "execute_result"
    }
   ],
   "source": [
    "red_comparison = red_wine[\"quality_label\"].value_counts()\n",
    "red_comparison"
   ]
  },
  {
   "cell_type": "code",
   "execution_count": 15,
   "metadata": {},
   "outputs": [
    {
     "data": {
      "image/png": "[encoded data removed]",
      "text/plain": [
       "<Figure size 720x432 with 1 Axes>"
      ]
     },
     "metadata": {
      "needs_background": "light"
     },
     "output_type": "display_data"
    }
   ],
   "source": [
    "#Matplotlib\n",
    "\n",
    "plt.figure(figsize=(10,6))\n",
    "plt.bar(red_comparison.index, red_comparison, width=0.9, color= \"red\")\n",
    "plt.title(\"Red Wines Quality Range\")\n",
    "plt.xlabel(\"Quality\")\n",
    "plt.ylabel(\"Count\")\n",
    "plt.xticks(rotation=45)\n",
    "plt.show()"
   ]
  },
  {
   "cell_type": "code",
   "execution_count": 16,
   "metadata": {},
   "outputs": [],
   "source": [
    "#seaborne\n",
    "\n",
    "#sns.histplot(data=red_wine, x=\"quality_label\", color=\"red\")"
   ]
  },
  {
   "cell_type": "code",
   "execution_count": 17,
   "metadata": {},
   "outputs": [
    {
     "name": "stdout",
     "output_type": "stream",
     "text": [
      "medium    3078\n",
      "low       1640\n",
      "high       180\n",
      "Name: quality_label, dtype: int64\n"
     ]
    }
   ],
   "source": [
    "white_comparison = white_wine[\"quality_label\"].value_counts()\n",
    "print(white_comparison)"
   ]
  },
  {
   "cell_type": "code",
   "execution_count": 18,
   "metadata": {},
   "outputs": [
    {
     "data": {
      "image/png": "[encoded data removed]",
      "text/plain": [
       "<Figure size 432x576 with 1 Axes>"
      ]
     },
     "metadata": {
      "needs_background": "light"
     },
     "output_type": "display_data"
    }
   ],
   "source": [
    "#Matplotlib\n",
    "\n",
    "plt.figure(figsize=(6,8))\n",
    "plt.bar(white_comparison.index, white_comparison, width=0.9, color= \"black\")\n",
    "\n",
    "\n",
    "plt.title(\"White wine quality range\")\n",
    "plt.xlabel(\"Quality\")\n",
    "plt.ylabel(\"Count\")\n",
    "plt.xticks(rotation=45)\n",
    "plt.show()\n",
    "\n",
    "#get the columns in order"
   ]
  },
  {
   "cell_type": "code",
   "execution_count": 19,
   "metadata": {},
   "outputs": [],
   "source": [
    "#seaborne\n",
    "\n",
    "#sns.histplot(data=white_wine, x=\"quality_label\", color=\"white\")"
   ]
  },
  {
   "cell_type": "code",
   "execution_count": 20,
   "metadata": {},
   "outputs": [
    {
     "data": {
      "image/png": "[encoded data removed]",
      "text/plain": [
       "<Figure size 432x504 with 2 Axes>"
      ]
     },
     "metadata": {
      "needs_background": "light"
     },
     "output_type": "display_data"
    }
   ],
   "source": [
    "#Now try to compare the quality with some other features. Try reproducing the following box plot.\n",
    "\n",
    "data = [white_comparison, red_comparison]\n",
    "\n",
    "fig = plt.figure(figsize =(6, 7))\n",
    "plt.boxplot(red_comparison), (white_comparison)\n",
    "ax = fig.add_axes([0, 0, 1, 1])\n",
    "bp = ax.boxplot(data)\n",
    "\n",
    "plt.show()"
   ]
  },
  {
   "cell_type": "code",
   "execution_count": 21,
   "metadata": {},
   "outputs": [],
   "source": [
    "#own attempt\n",
    "\n",
    "#fig, ax = plt.subplots()\n",
    "#ax.boxplot(data)\n"
   ]
  },
  {
   "cell_type": "code",
   "execution_count": 22,
   "metadata": {},
   "outputs": [],
   "source": [
    "import pandas as pd\n",
    "import matplotlib.pyplot as plt\n",
    "%matplotlib inline"
   ]
  },
  {
   "cell_type": "code",
   "execution_count": 23,
   "metadata": {},
   "outputs": [
    {
     "data": {
      "text/plain": [
       "Index(['fixed acidity', 'volatile acidity', 'citric acid', 'residual sugar',\n",
       "       'chlorides', 'free sulfur dioxide', 'total sulfur dioxide', 'density',\n",
       "       'pH', 'sulphates', 'alcohol', 'quality', 'quality_label'],\n",
       "      dtype='object')"
      ]
     },
     "execution_count": 23,
     "metadata": {},
     "output_type": "execute_result"
    }
   ],
   "source": [
    "red_wine.columns"
   ]
  },
  {
   "cell_type": "code",
   "execution_count": 24,
   "metadata": {},
   "outputs": [
    {
     "data": {
      "image/png": "[encoded data removed]",
      "text/plain": [
       "<Figure size 432x288 with 1 Axes>"
      ]
     },
     "metadata": {
      "needs_background": "light"
     },
     "output_type": "display_data"
    }
   ],
   "source": [
    "plt.boxplot(red_wine.alcohol)\n",
    "\n",
    "plt.show()\n",
    "\n"
   ]
  },
  {
   "cell_type": "code",
   "execution_count": 25,
   "metadata": {},
   "outputs": [
    {
     "name": "stdout",
     "output_type": "stream",
     "text": [
      "medium    837\n",
      "low       744\n",
      "high       18\n",
      "Name: quality_label, dtype: int64\n"
     ]
    }
   ],
   "source": [
    "print(red_comparison)\n"
   ]
  },
  {
   "cell_type": "code",
   "execution_count": 26,
   "metadata": {},
   "outputs": [
    {
     "data": {
      "image/png": "[encoded data removed]",
      "text/plain": [
       "<Figure size 432x288 with 2 Axes>"
      ]
     },
     "metadata": {
      "needs_background": "light"
     },
     "output_type": "display_data"
    }
   ],
   "source": [
    "fig, axs = plt.subplots(1, 2, sharey=\"row\", tight_layout=True)\n",
    "\n",
    "axs[0].set_title(\"Red\")\n",
    "plt.ylabel(\"Alcohol amount\")\n",
    "plt.xlabel(\"Sort\")\n",
    "axs[1].set_title(\"White\")\n",
    "plt.ylabel(\"Alcohol amount\")\n",
    "plt.xlabel(\"Sort\")\n",
    "\n",
    "\n",
    "axs[0].hist(red_wine['alcohol'], color='red', bins=15,\n",
    "         edgecolor='black', linewidth=1.1)\n",
    "axs[1].hist(white_wine['alcohol'], color='blue', bins=15,\n",
    "         edgecolor='black', linewidth=1.1)\n",
    "plt.show()"
   ]
  },
  {
   "cell_type": "code",
   "execution_count": 27,
   "metadata": {},
   "outputs": [],
   "source": [
    "\n",
    "\n",
    "#plt.plot([x,y])\n",
    "#print()"
   ]
  },
  {
   "cell_type": "code",
   "execution_count": 28,
   "metadata": {},
   "outputs": [
    {
     "data": {
      "image/png": "[encoded data removed]",
      "text/plain": [
       "<Figure size 360x288 with 1 Axes>"
      ]
     },
     "metadata": {
      "needs_background": "light"
     },
     "output_type": "display_data"
    }
   ],
   "source": [
    "#code from our presentation\n",
    "red_comparison = red_wine[\"quality_label\"].value_counts()\n",
    "plt.figure(figsize=(5, 4))\n",
    "plt.bar(red_comparison.index, red_comparison, width=0.9, color=\"lightgreen\")\n",
    "plt.title(\"title\")\n",
    "plt.xlabel(\"Genres\")\n",
    "plt.ylabel(\"Count\")\n",
    "plt.xticks(rotation=45)\n",
    "plt.show()"
   ]
  },
  {
   "cell_type": "code",
   "execution_count": 29,
   "metadata": {},
   "outputs": [
    {
     "data": {
      "image/png": "[encoded data removed]",
      "text/plain": [
       "<Figure size 432x288 with 1 Axes>"
      ]
     },
     "metadata": {
      "needs_background": "light"
     },
     "output_type": "display_data"
    }
   ],
   "source": [
    "#old\n",
    "\n",
    "df = pd.DataFrame({      \n",
    "    'Label' : ['low','medium',\"high\"],   \n",
    "    'Wines' : ['red','white', \"x\"]       \n",
    "   })\n",
    "\n",
    "\n",
    "df['Item'] = pd.Categorical(df['Wines'], ['red','white'])\n",
    "\n",
    "g = sns.histplot(data = df, \n",
    "            x = 'Wines', \n",
    "            hue = 'Label',\n",
    "            #order = ['low','medium', \"high\"],\n",
    "            multiple = 'fill', \n",
    "            shrink = 0.8, \n",
    "            discrete = True,\n",
    "            legend = True,\n",
    "            )"
   ]
  },
  {
   "cell_type": "code",
   "execution_count": 30,
   "metadata": {},
   "outputs": [],
   "source": [
    "#Come up with at least 3 more charts with explanations.\n",
    "#after box plot, do scatterplot\n",
    "#sharey axis, important to get the same numbers\n",
    "\n"
   ]
  }
 ],
 "metadata": {
  "kernelspec": {
   "display_name": "Python 3.9.12 ('base')",
   "language": "python",
   "name": "python3"
  },
  "language_info": {
   "codemirror_mode": {
    "name": "ipython",
    "version": 3
   },
   "file_extension": ".py",
   "mimetype": "text/x-python",
   "name": "python",
   "nbconvert_exporter": "python",
   "pygments_lexer": "ipython3",
   "version": "3.9.12"
  },
  "orig_nbformat": 4,
  "vscode": {
   "interpreter": {
    "hash": "53268d429fe8007277d58353424377c3c56a51408f44f169cee4649a7ccfd4de"
   }
  }
 },
 "nbformat": 4,
 "nbformat_minor": 2
}
