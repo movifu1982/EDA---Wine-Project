{
 "cells": [
  {
   "cell_type": "code",
   "execution_count": 115,
   "metadata": {},
   "outputs": [],
   "source": [
    "#Possible hypothesis:\n",
    "#the less alcohol, the higher the quality?\n",
    "#white has more citric acidy = more sugar?\n",
    "#red has twice as much sulphates?"
   ]
  },
  {
   "cell_type": "code",
   "execution_count": 116,
   "metadata": {},
   "outputs": [],
   "source": [
    "#Come up with at least 3 more charts with explanations.\n",
    "#after box plot, do scatterplot\n",
    "#sharey axis, important to get the same numbers"
   ]
  },
  {
   "cell_type": "code",
   "execution_count": 117,
   "metadata": {},
   "outputs": [],
   "source": [
    "import numpy as np\n",
    "import pandas as pd\n",
    "import matplotlib.pyplot as plt\n",
    "import seaborn as sns"
   ]
  },
  {
   "cell_type": "code",
   "execution_count": 118,
   "metadata": {},
   "outputs": [
    {
     "data": {
      "text/html": [
       "<div>\n",
       "<style scoped>\n",
       "    .dataframe tbody tr th:only-of-type {\n",
       "        vertical-align: middle;\n",
       "    }\n",
       "\n",
       "    .dataframe tbody tr th {\n",
       "        vertical-align: top;\n",
       "    }\n",
       "\n",
       "    .dataframe thead th {\n",
       "        text-align: right;\n",
       "    }\n",
       "</style>\n",
       "<table border=\"1\" class=\"dataframe\">\n",
       "  <thead>\n",
       "    <tr style=\"text-align: right;\">\n",
       "      <th></th>\n",
       "      <th>fixed acidity</th>\n",
       "      <th>volatile acidity</th>\n",
       "      <th>citric acid</th>\n",
       "      <th>residual sugar</th>\n",
       "      <th>chlorides</th>\n",
       "      <th>free sulfur dioxide</th>\n",
       "      <th>total sulfur dioxide</th>\n",
       "      <th>density</th>\n",
       "      <th>pH</th>\n",
       "      <th>sulphates</th>\n",
       "      <th>alcohol</th>\n",
       "      <th>quality</th>\n",
       "    </tr>\n",
       "  </thead>\n",
       "  <tbody>\n",
       "    <tr>\n",
       "      <th>0</th>\n",
       "      <td>7.4</td>\n",
       "      <td>0.70</td>\n",
       "      <td>0.00</td>\n",
       "      <td>1.9</td>\n",
       "      <td>0.076</td>\n",
       "      <td>11.0</td>\n",
       "      <td>34.0</td>\n",
       "      <td>0.9978</td>\n",
       "      <td>3.51</td>\n",
       "      <td>0.56</td>\n",
       "      <td>9.4</td>\n",
       "      <td>5</td>\n",
       "    </tr>\n",
       "    <tr>\n",
       "      <th>1</th>\n",
       "      <td>7.8</td>\n",
       "      <td>0.88</td>\n",
       "      <td>0.00</td>\n",
       "      <td>2.6</td>\n",
       "      <td>0.098</td>\n",
       "      <td>25.0</td>\n",
       "      <td>67.0</td>\n",
       "      <td>0.9968</td>\n",
       "      <td>3.20</td>\n",
       "      <td>0.68</td>\n",
       "      <td>9.8</td>\n",
       "      <td>5</td>\n",
       "    </tr>\n",
       "    <tr>\n",
       "      <th>2</th>\n",
       "      <td>7.8</td>\n",
       "      <td>0.76</td>\n",
       "      <td>0.04</td>\n",
       "      <td>2.3</td>\n",
       "      <td>0.092</td>\n",
       "      <td>15.0</td>\n",
       "      <td>54.0</td>\n",
       "      <td>0.9970</td>\n",
       "      <td>3.26</td>\n",
       "      <td>0.65</td>\n",
       "      <td>9.8</td>\n",
       "      <td>5</td>\n",
       "    </tr>\n",
       "    <tr>\n",
       "      <th>3</th>\n",
       "      <td>11.2</td>\n",
       "      <td>0.28</td>\n",
       "      <td>0.56</td>\n",
       "      <td>1.9</td>\n",
       "      <td>0.075</td>\n",
       "      <td>17.0</td>\n",
       "      <td>60.0</td>\n",
       "      <td>0.9980</td>\n",
       "      <td>3.16</td>\n",
       "      <td>0.58</td>\n",
       "      <td>9.8</td>\n",
       "      <td>6</td>\n",
       "    </tr>\n",
       "    <tr>\n",
       "      <th>4</th>\n",
       "      <td>7.4</td>\n",
       "      <td>0.70</td>\n",
       "      <td>0.00</td>\n",
       "      <td>1.9</td>\n",
       "      <td>0.076</td>\n",
       "      <td>11.0</td>\n",
       "      <td>34.0</td>\n",
       "      <td>0.9978</td>\n",
       "      <td>3.51</td>\n",
       "      <td>0.56</td>\n",
       "      <td>9.4</td>\n",
       "      <td>5</td>\n",
       "    </tr>\n",
       "  </tbody>\n",
       "</table>\n",
       "</div>"
      ],
      "text/plain": [
       "   fixed acidity  volatile acidity  citric acid  residual sugar  chlorides  \\\n",
       "0            7.4              0.70         0.00             1.9      0.076   \n",
       "1            7.8              0.88         0.00             2.6      0.098   \n",
       "2            7.8              0.76         0.04             2.3      0.092   \n",
       "3           11.2              0.28         0.56             1.9      0.075   \n",
       "4            7.4              0.70         0.00             1.9      0.076   \n",
       "\n",
       "   free sulfur dioxide  total sulfur dioxide  density    pH  sulphates  \\\n",
       "0                 11.0                  34.0   0.9978  3.51       0.56   \n",
       "1                 25.0                  67.0   0.9968  3.20       0.68   \n",
       "2                 15.0                  54.0   0.9970  3.26       0.65   \n",
       "3                 17.0                  60.0   0.9980  3.16       0.58   \n",
       "4                 11.0                  34.0   0.9978  3.51       0.56   \n",
       "\n",
       "   alcohol  quality  \n",
       "0      9.4        5  \n",
       "1      9.8        5  \n",
       "2      9.8        5  \n",
       "3      9.8        6  \n",
       "4      9.4        5  "
      ]
     },
     "execution_count": 118,
     "metadata": {},
     "output_type": "execute_result"
    }
   ],
   "source": [
    "red_wine = pd.read_csv('https://archive.ics.uci.edu/ml/machine-learning-databases/wine-quality/winequality-red.csv', sep=\";\")\n",
    "#white_wine = pd.read_csv('https://archive.ics.uci.edu/ml/machine-learning-databases/wine-quality/winequality-white.csv', sep=\";\")\n",
    "df=red_wine\n",
    "\n",
    "red_wine.head(5)"
   ]
  },
  {
   "cell_type": "code",
   "execution_count": 119,
   "metadata": {},
   "outputs": [],
   "source": [
    "red_wine['quality_label'] = red_wine['quality'].apply(lambda value: 'low'\n",
    "if value <= 5 else 'medium'\n",
    "if value <= 7 else 'high')\n",
    "\n",
    "red_wine['quality_label'] = pd.Categorical(red_wine['quality_label'],\n",
    "categories=['low', 'medium', 'high'])"
   ]
  },
  {
   "cell_type": "code",
   "execution_count": 120,
   "metadata": {},
   "outputs": [
    {
     "data": {
      "image/png": "[encoded data removed]",
      "text/plain": [
       "<Figure size 720x720 with 1 Axes>"
      ]
     },
     "metadata": {
      "needs_background": "light"
     },
     "output_type": "display_data"
    }
   ],
   "source": [
    "\n",
    "\n",
    "only_alcohol= red_wine[\"alcohol\"].value_counts()\n",
    "plt.figure(figsize=(10, 10))\n",
    "plt.bar(only_alcohol.index, only_alcohol, width=0.9, color=\"grey\")\n",
    "plt.title(\"Amount of alcohol in red wine\")\n",
    "plt.xlabel(\"Alcohol\")\n",
    "plt.ylabel(\"Count\")\n",
    "\n",
    "plt.show()"
   ]
  },
  {
   "cell_type": "code",
   "execution_count": 161,
   "metadata": {},
   "outputs": [
    {
     "data": {
      "image/png": "[encoded data removed]",
      "text/plain": [
       "<Figure size 576x576 with 1 Axes>"
      ]
     },
     "metadata": {
      "needs_background": "light"
     },
     "output_type": "display_data"
    }
   ],
   "source": [
    "quality= red_wine[\"quality\"].value_counts()\n",
    "plt.figure(figsize=(8, 8))\n",
    "plt.bar(quality.index, quality, width=0.6, color=\"darkred\")\n",
    "plt.title(\"Quality red wine\")\n",
    "plt.xlabel(\"Quality 3-8 where 3 is the lowest\")\n",
    "plt.ylabel(\"Amount of wines\")\n",
    "plt.savefig(\"Quality of red wine.png\", dpi=300)\n",
    "\n",
    "plt.show()"
   ]
  },
  {
   "cell_type": "code",
   "execution_count": 122,
   "metadata": {},
   "outputs": [
    {
     "data": {
      "image/png": "[encoded data removed]",
      "text/plain": [
       "<Figure size 1080x432 with 1 Axes>"
      ]
     },
     "metadata": {
      "needs_background": "light"
     },
     "output_type": "display_data"
    }
   ],
   "source": [
    "#hist\n",
    "plt.figure(figsize=(15, 6))\n",
    "plt.title(\"title\")\n",
    "plt.hist(red_wine['pH'], color='lightgreen', bins=80,\n",
    "         edgecolor='grey', linewidth=0.5)\n",
    "plt.show()"
   ]
  },
  {
   "cell_type": "code",
   "execution_count": 162,
   "metadata": {},
   "outputs": [
    {
     "data": {
      "image/png": "[encoded data removed]",
      "text/plain": [
       "<Figure size 1080x432 with 1 Axes>"
      ]
     },
     "metadata": {
      "needs_background": "light"
     },
     "output_type": "display_data"
    }
   ],
   "source": [
    "#hist\n",
    "plt.figure(figsize=(15, 6))\n",
    "plt.title(\"title\")\n",
    "plt.hist(red_wine['residual sugar'], color='blue', bins=80,\n",
    "         edgecolor='grey', linewidth=0.5)\n",
    "plt.show()"
   ]
  },
  {
   "cell_type": "code",
   "execution_count": 123,
   "metadata": {},
   "outputs": [
    {
     "data": {
      "image/png": "[encoded data removed]",
      "text/plain": [
       "<Figure size 432x288 with 2 Axes>"
      ]
     },
     "metadata": {
      "needs_background": "light"
     },
     "output_type": "display_data"
    }
   ],
   "source": [
    "fig, axs = plt.subplots(1, 2, sharey=\"row\", tight_layout=True)\n",
    "\n",
    "axs[0].set_title(\"alcohol\")\n",
    "axs[1].set_title(\"pH\")\n",
    "\n",
    "axs[0].hist(red_wine['alcohol'], color='lightgreen', bins=80,\n",
    "         edgecolor='grey', linewidth=0.5)\n",
    "axs[1].hist(red_wine['pH'], color='lightgreen', bins=80,\n",
    "         edgecolor='grey', linewidth=0.5)\n",
    "plt.show()"
   ]
  },
  {
   "cell_type": "code",
   "execution_count": 173,
   "metadata": {},
   "outputs": [
    {
     "data": {
      "text/plain": [
       "Text(0.5, 1.0, 'Relation')"
      ]
     },
     "execution_count": 173,
     "metadata": {},
     "output_type": "execute_result"
    },
    {
     "data": {
      "image/png": "[encoded data removed]",
      "text/plain": [
       "<Figure size 432x288 with 1 Axes>"
      ]
     },
     "metadata": {
      "needs_background": "light"
     },
     "output_type": "display_data"
    }
   ],
   "source": [
    "quality_pH = {}\n",
    "for i in red_wine['quality'].unique():\n",
    "    quality_pH[i] = red_wine[red_wine['quality'] == i].chlorides\n",
    "plt.boxplot([x for x in quality_pH.values()],\n",
    "            labels=[x for x in quality_pH.keys()])\n",
    "#x and y-axis labels\n",
    "plt.xlabel('Quality')\n",
    "plt.ylabel('Chlorides')\n",
    "#plot title\n",
    "plt.title('Relation')"
   ]
  },
  {
   "cell_type": "code",
   "execution_count": 171,
   "metadata": {},
   "outputs": [
    {
     "data": {
      "text/plain": [
       "Text(0.5, 1.0, 'Relation')"
      ]
     },
     "execution_count": 171,
     "metadata": {},
     "output_type": "execute_result"
    },
    {
     "data": {
      "image/png": "[encoded data removed]",
      "text/plain": [
       "<Figure size 432x288 with 1 Axes>"
      ]
     },
     "metadata": {
      "needs_background": "light"
     },
     "output_type": "display_data"
    }
   ],
   "source": [
    "quality_sugar = {}\n",
    "for i in red_wine['quality'].unique():\n",
    "    quality_sugar[i] = red_wine[red_wine['quality'] == i].pH\n",
    "plt.boxplot([x for x in quality_sugar.values()],\n",
    "            labels=[x for x in quality_sugar.keys()])\n",
    "#x and y-axis labels\n",
    "plt.xlabel('Quality')\n",
    "plt.ylabel('sugar')\n",
    "#plot title\n",
    "plt.title('Relation')"
   ]
  },
  {
   "cell_type": "code",
   "execution_count": 125,
   "metadata": {},
   "outputs": [
    {
     "data": {
      "image/png": "[encoded data removed]",
      "text/plain": [
       "<Figure size 432x288 with 1 Axes>"
      ]
     },
     "metadata": {
      "needs_background": "light"
     },
     "output_type": "display_data"
    }
   ],
   "source": [
    "\n",
    "plt.figure(figsize=(6,4))\n",
    "\n",
    "plt.plot(red_wine.alcohol)\n",
    "plt.show()"
   ]
  },
  {
   "cell_type": "code",
   "execution_count": 126,
   "metadata": {},
   "outputs": [
    {
     "data": {
      "image/png": "[encoded data removed]",
      "text/plain": [
       "<Figure size 432x288 with 1 Axes>"
      ]
     },
     "metadata": {
      "needs_background": "light"
     },
     "output_type": "display_data"
    }
   ],
   "source": [
    "bins = [8,9,10,11,12,13,14,15]\n",
    "\n",
    "plt.hist(red_wine.alcohol, bins=bins, color=\"red\")\n",
    "\n",
    "plt.xticks(bins)\n",
    "\n",
    "plt.ylabel(\"Number of red wines\")\n",
    "plt.xlabel(\"Promille of alcohol\")\n",
    "plt.title(\"Overview of alcohol\")\n",
    "\n",
    "plt.show()"
   ]
  },
  {
   "cell_type": "code",
   "execution_count": 135,
   "metadata": {},
   "outputs": [],
   "source": [
    "#quality_low = red_wine.loc[red_wine[\"quality label\"] == \"high\"].count()\n",
    "#quality_high = red_wine.loc[red_wine[\"quality\"] == \"8\"].count()\n",
    "\n",
    "#plt.pie(quality_low, quality_high)\n",
    "\n",
    "#does not work\n",
    "#---------------------\n",
    "\n"
   ]
  },
  {
   "cell_type": "code",
   "execution_count": 174,
   "metadata": {},
   "outputs": [],
   "source": [
    "#medium_red = red_wine.loc[red_wine.quality_label == \"medium\"]\n",
    "\n",
    "#high_red = red_wine.loc[red_wine.quality_label == \"high\"]\n",
    "\n",
    "#plt.boxplot([medium_red, high_red])\n",
    "\n",
    "#does not work\n",
    "\n"
   ]
  },
  {
   "cell_type": "code",
   "execution_count": 193,
   "metadata": {},
   "outputs": [
    {
     "data": {
      "image/png": "[encoded data removed]",
      "text/plain": [
       "<Figure size 432x288 with 1 Axes>"
      ]
     },
     "metadata": {
      "needs_background": "light"
     },
     "output_type": "display_data"
    }
   ],
   "source": [
    "plt.plot( red_wine.quality, red_wine.alcohol, \"o\")\n",
    "plt.ylabel(\"Promille of alcohol\")\n",
    "plt.xlabel(\"Quality from 3 to 8\")\n",
    "plt.title(\"Overview of alcohol in red wines\")\n",
    "plt.show()\n"
   ]
  },
  {
   "cell_type": "code",
   "execution_count": 196,
   "metadata": {},
   "outputs": [
    {
     "data": {
      "image/png": "[encoded data removed]",
      "text/plain": [
       "<Figure size 432x288 with 1 Axes>"
      ]
     },
     "metadata": {
      "needs_background": "light"
     },
     "output_type": "display_data"
    }
   ],
   "source": [
    "plt.plot( red_wine.quality, red_wine.chlorides, \"o\")\n",
    "plt.ylabel(\"Chlorides\")\n",
    "plt.xlabel(\"Quality from 3 to 8\")\n",
    "plt.title(\"Overview of chlorides in red wines\")\n",
    "plt.show()"
   ]
  },
  {
   "cell_type": "code",
   "execution_count": 200,
   "metadata": {},
   "outputs": [
    {
     "data": {
      "text/html": [
       "<div>\n",
       "<style scoped>\n",
       "    .dataframe tbody tr th:only-of-type {\n",
       "        vertical-align: middle;\n",
       "    }\n",
       "\n",
       "    .dataframe tbody tr th {\n",
       "        vertical-align: top;\n",
       "    }\n",
       "\n",
       "    .dataframe thead th {\n",
       "        text-align: right;\n",
       "    }\n",
       "</style>\n",
       "<table border=\"1\" class=\"dataframe\">\n",
       "  <thead>\n",
       "    <tr style=\"text-align: right;\">\n",
       "      <th></th>\n",
       "      <th>fixed acidity</th>\n",
       "      <th>volatile acidity</th>\n",
       "      <th>citric acid</th>\n",
       "      <th>residual sugar</th>\n",
       "      <th>chlorides</th>\n",
       "      <th>free sulfur dioxide</th>\n",
       "      <th>total sulfur dioxide</th>\n",
       "      <th>density</th>\n",
       "      <th>pH</th>\n",
       "      <th>sulphates</th>\n",
       "      <th>alcohol</th>\n",
       "      <th>quality</th>\n",
       "      <th>quality_label</th>\n",
       "    </tr>\n",
       "  </thead>\n",
       "  <tbody>\n",
       "    <tr>\n",
       "      <th>267</th>\n",
       "      <td>7.9</td>\n",
       "      <td>0.35</td>\n",
       "      <td>0.46</td>\n",
       "      <td>3.6</td>\n",
       "      <td>0.078</td>\n",
       "      <td>15.0</td>\n",
       "      <td>37.0</td>\n",
       "      <td>0.99730</td>\n",
       "      <td>3.35</td>\n",
       "      <td>0.86</td>\n",
       "      <td>12.8</td>\n",
       "      <td>8</td>\n",
       "      <td>high</td>\n",
       "    </tr>\n",
       "    <tr>\n",
       "      <th>278</th>\n",
       "      <td>10.3</td>\n",
       "      <td>0.32</td>\n",
       "      <td>0.45</td>\n",
       "      <td>6.4</td>\n",
       "      <td>0.073</td>\n",
       "      <td>5.0</td>\n",
       "      <td>13.0</td>\n",
       "      <td>0.99760</td>\n",
       "      <td>3.23</td>\n",
       "      <td>0.82</td>\n",
       "      <td>12.6</td>\n",
       "      <td>8</td>\n",
       "      <td>high</td>\n",
       "    </tr>\n",
       "    <tr>\n",
       "      <th>390</th>\n",
       "      <td>5.6</td>\n",
       "      <td>0.85</td>\n",
       "      <td>0.05</td>\n",
       "      <td>1.4</td>\n",
       "      <td>0.045</td>\n",
       "      <td>12.0</td>\n",
       "      <td>88.0</td>\n",
       "      <td>0.99240</td>\n",
       "      <td>3.56</td>\n",
       "      <td>0.82</td>\n",
       "      <td>12.9</td>\n",
       "      <td>8</td>\n",
       "      <td>high</td>\n",
       "    </tr>\n",
       "    <tr>\n",
       "      <th>440</th>\n",
       "      <td>12.6</td>\n",
       "      <td>0.31</td>\n",
       "      <td>0.72</td>\n",
       "      <td>2.2</td>\n",
       "      <td>0.072</td>\n",
       "      <td>6.0</td>\n",
       "      <td>29.0</td>\n",
       "      <td>0.99870</td>\n",
       "      <td>2.88</td>\n",
       "      <td>0.82</td>\n",
       "      <td>9.8</td>\n",
       "      <td>8</td>\n",
       "      <td>high</td>\n",
       "    </tr>\n",
       "    <tr>\n",
       "      <th>455</th>\n",
       "      <td>11.3</td>\n",
       "      <td>0.62</td>\n",
       "      <td>0.67</td>\n",
       "      <td>5.2</td>\n",
       "      <td>0.086</td>\n",
       "      <td>6.0</td>\n",
       "      <td>19.0</td>\n",
       "      <td>0.99880</td>\n",
       "      <td>3.22</td>\n",
       "      <td>0.69</td>\n",
       "      <td>13.4</td>\n",
       "      <td>8</td>\n",
       "      <td>high</td>\n",
       "    </tr>\n",
       "    <tr>\n",
       "      <th>481</th>\n",
       "      <td>9.4</td>\n",
       "      <td>0.30</td>\n",
       "      <td>0.56</td>\n",
       "      <td>2.8</td>\n",
       "      <td>0.080</td>\n",
       "      <td>6.0</td>\n",
       "      <td>17.0</td>\n",
       "      <td>0.99640</td>\n",
       "      <td>3.15</td>\n",
       "      <td>0.92</td>\n",
       "      <td>11.7</td>\n",
       "      <td>8</td>\n",
       "      <td>high</td>\n",
       "    </tr>\n",
       "    <tr>\n",
       "      <th>495</th>\n",
       "      <td>10.7</td>\n",
       "      <td>0.35</td>\n",
       "      <td>0.53</td>\n",
       "      <td>2.6</td>\n",
       "      <td>0.070</td>\n",
       "      <td>5.0</td>\n",
       "      <td>16.0</td>\n",
       "      <td>0.99720</td>\n",
       "      <td>3.15</td>\n",
       "      <td>0.65</td>\n",
       "      <td>11.0</td>\n",
       "      <td>8</td>\n",
       "      <td>high</td>\n",
       "    </tr>\n",
       "    <tr>\n",
       "      <th>498</th>\n",
       "      <td>10.7</td>\n",
       "      <td>0.35</td>\n",
       "      <td>0.53</td>\n",
       "      <td>2.6</td>\n",
       "      <td>0.070</td>\n",
       "      <td>5.0</td>\n",
       "      <td>16.0</td>\n",
       "      <td>0.99720</td>\n",
       "      <td>3.15</td>\n",
       "      <td>0.65</td>\n",
       "      <td>11.0</td>\n",
       "      <td>8</td>\n",
       "      <td>high</td>\n",
       "    </tr>\n",
       "    <tr>\n",
       "      <th>588</th>\n",
       "      <td>5.0</td>\n",
       "      <td>0.42</td>\n",
       "      <td>0.24</td>\n",
       "      <td>2.0</td>\n",
       "      <td>0.060</td>\n",
       "      <td>19.0</td>\n",
       "      <td>50.0</td>\n",
       "      <td>0.99170</td>\n",
       "      <td>3.72</td>\n",
       "      <td>0.74</td>\n",
       "      <td>14.0</td>\n",
       "      <td>8</td>\n",
       "      <td>high</td>\n",
       "    </tr>\n",
       "    <tr>\n",
       "      <th>828</th>\n",
       "      <td>7.8</td>\n",
       "      <td>0.57</td>\n",
       "      <td>0.09</td>\n",
       "      <td>2.3</td>\n",
       "      <td>0.065</td>\n",
       "      <td>34.0</td>\n",
       "      <td>45.0</td>\n",
       "      <td>0.99417</td>\n",
       "      <td>3.46</td>\n",
       "      <td>0.74</td>\n",
       "      <td>12.7</td>\n",
       "      <td>8</td>\n",
       "      <td>high</td>\n",
       "    </tr>\n",
       "    <tr>\n",
       "      <th>1061</th>\n",
       "      <td>9.1</td>\n",
       "      <td>0.40</td>\n",
       "      <td>0.50</td>\n",
       "      <td>1.8</td>\n",
       "      <td>0.071</td>\n",
       "      <td>7.0</td>\n",
       "      <td>16.0</td>\n",
       "      <td>0.99462</td>\n",
       "      <td>3.21</td>\n",
       "      <td>0.69</td>\n",
       "      <td>12.5</td>\n",
       "      <td>8</td>\n",
       "      <td>high</td>\n",
       "    </tr>\n",
       "    <tr>\n",
       "      <th>1090</th>\n",
       "      <td>10.0</td>\n",
       "      <td>0.26</td>\n",
       "      <td>0.54</td>\n",
       "      <td>1.9</td>\n",
       "      <td>0.083</td>\n",
       "      <td>42.0</td>\n",
       "      <td>74.0</td>\n",
       "      <td>0.99451</td>\n",
       "      <td>2.98</td>\n",
       "      <td>0.63</td>\n",
       "      <td>11.8</td>\n",
       "      <td>8</td>\n",
       "      <td>high</td>\n",
       "    </tr>\n",
       "    <tr>\n",
       "      <th>1120</th>\n",
       "      <td>7.9</td>\n",
       "      <td>0.54</td>\n",
       "      <td>0.34</td>\n",
       "      <td>2.5</td>\n",
       "      <td>0.076</td>\n",
       "      <td>8.0</td>\n",
       "      <td>17.0</td>\n",
       "      <td>0.99235</td>\n",
       "      <td>3.20</td>\n",
       "      <td>0.72</td>\n",
       "      <td>13.1</td>\n",
       "      <td>8</td>\n",
       "      <td>high</td>\n",
       "    </tr>\n",
       "    <tr>\n",
       "      <th>1202</th>\n",
       "      <td>8.6</td>\n",
       "      <td>0.42</td>\n",
       "      <td>0.39</td>\n",
       "      <td>1.8</td>\n",
       "      <td>0.068</td>\n",
       "      <td>6.0</td>\n",
       "      <td>12.0</td>\n",
       "      <td>0.99516</td>\n",
       "      <td>3.35</td>\n",
       "      <td>0.69</td>\n",
       "      <td>11.7</td>\n",
       "      <td>8</td>\n",
       "      <td>high</td>\n",
       "    </tr>\n",
       "    <tr>\n",
       "      <th>1269</th>\n",
       "      <td>5.5</td>\n",
       "      <td>0.49</td>\n",
       "      <td>0.03</td>\n",
       "      <td>1.8</td>\n",
       "      <td>0.044</td>\n",
       "      <td>28.0</td>\n",
       "      <td>87.0</td>\n",
       "      <td>0.99080</td>\n",
       "      <td>3.50</td>\n",
       "      <td>0.82</td>\n",
       "      <td>14.0</td>\n",
       "      <td>8</td>\n",
       "      <td>high</td>\n",
       "    </tr>\n",
       "    <tr>\n",
       "      <th>1403</th>\n",
       "      <td>7.2</td>\n",
       "      <td>0.33</td>\n",
       "      <td>0.33</td>\n",
       "      <td>1.7</td>\n",
       "      <td>0.061</td>\n",
       "      <td>3.0</td>\n",
       "      <td>13.0</td>\n",
       "      <td>0.99600</td>\n",
       "      <td>3.23</td>\n",
       "      <td>1.10</td>\n",
       "      <td>10.0</td>\n",
       "      <td>8</td>\n",
       "      <td>high</td>\n",
       "    </tr>\n",
       "    <tr>\n",
       "      <th>1449</th>\n",
       "      <td>7.2</td>\n",
       "      <td>0.38</td>\n",
       "      <td>0.31</td>\n",
       "      <td>2.0</td>\n",
       "      <td>0.056</td>\n",
       "      <td>15.0</td>\n",
       "      <td>29.0</td>\n",
       "      <td>0.99472</td>\n",
       "      <td>3.23</td>\n",
       "      <td>0.76</td>\n",
       "      <td>11.3</td>\n",
       "      <td>8</td>\n",
       "      <td>high</td>\n",
       "    </tr>\n",
       "    <tr>\n",
       "      <th>1549</th>\n",
       "      <td>7.4</td>\n",
       "      <td>0.36</td>\n",
       "      <td>0.30</td>\n",
       "      <td>1.8</td>\n",
       "      <td>0.074</td>\n",
       "      <td>17.0</td>\n",
       "      <td>24.0</td>\n",
       "      <td>0.99419</td>\n",
       "      <td>3.24</td>\n",
       "      <td>0.70</td>\n",
       "      <td>11.4</td>\n",
       "      <td>8</td>\n",
       "      <td>high</td>\n",
       "    </tr>\n",
       "  </tbody>\n",
       "</table>\n",
       "</div>"
      ],
      "text/plain": [
       "      fixed acidity  volatile acidity  citric acid  residual sugar  chlorides  \\\n",
       "267             7.9              0.35         0.46             3.6      0.078   \n",
       "278            10.3              0.32         0.45             6.4      0.073   \n",
       "390             5.6              0.85         0.05             1.4      0.045   \n",
       "440            12.6              0.31         0.72             2.2      0.072   \n",
       "455            11.3              0.62         0.67             5.2      0.086   \n",
       "481             9.4              0.30         0.56             2.8      0.080   \n",
       "495            10.7              0.35         0.53             2.6      0.070   \n",
       "498            10.7              0.35         0.53             2.6      0.070   \n",
       "588             5.0              0.42         0.24             2.0      0.060   \n",
       "828             7.8              0.57         0.09             2.3      0.065   \n",
       "1061            9.1              0.40         0.50             1.8      0.071   \n",
       "1090           10.0              0.26         0.54             1.9      0.083   \n",
       "1120            7.9              0.54         0.34             2.5      0.076   \n",
       "1202            8.6              0.42         0.39             1.8      0.068   \n",
       "1269            5.5              0.49         0.03             1.8      0.044   \n",
       "1403            7.2              0.33         0.33             1.7      0.061   \n",
       "1449            7.2              0.38         0.31             2.0      0.056   \n",
       "1549            7.4              0.36         0.30             1.8      0.074   \n",
       "\n",
       "      free sulfur dioxide  total sulfur dioxide  density    pH  sulphates  \\\n",
       "267                  15.0                  37.0  0.99730  3.35       0.86   \n",
       "278                   5.0                  13.0  0.99760  3.23       0.82   \n",
       "390                  12.0                  88.0  0.99240  3.56       0.82   \n",
       "440                   6.0                  29.0  0.99870  2.88       0.82   \n",
       "455                   6.0                  19.0  0.99880  3.22       0.69   \n",
       "481                   6.0                  17.0  0.99640  3.15       0.92   \n",
       "495                   5.0                  16.0  0.99720  3.15       0.65   \n",
       "498                   5.0                  16.0  0.99720  3.15       0.65   \n",
       "588                  19.0                  50.0  0.99170  3.72       0.74   \n",
       "828                  34.0                  45.0  0.99417  3.46       0.74   \n",
       "1061                  7.0                  16.0  0.99462  3.21       0.69   \n",
       "1090                 42.0                  74.0  0.99451  2.98       0.63   \n",
       "1120                  8.0                  17.0  0.99235  3.20       0.72   \n",
       "1202                  6.0                  12.0  0.99516  3.35       0.69   \n",
       "1269                 28.0                  87.0  0.99080  3.50       0.82   \n",
       "1403                  3.0                  13.0  0.99600  3.23       1.10   \n",
       "1449                 15.0                  29.0  0.99472  3.23       0.76   \n",
       "1549                 17.0                  24.0  0.99419  3.24       0.70   \n",
       "\n",
       "      alcohol  quality quality_label  \n",
       "267      12.8        8          high  \n",
       "278      12.6        8          high  \n",
       "390      12.9        8          high  \n",
       "440       9.8        8          high  \n",
       "455      13.4        8          high  \n",
       "481      11.7        8          high  \n",
       "495      11.0        8          high  \n",
       "498      11.0        8          high  \n",
       "588      14.0        8          high  \n",
       "828      12.7        8          high  \n",
       "1061     12.5        8          high  \n",
       "1090     11.8        8          high  \n",
       "1120     13.1        8          high  \n",
       "1202     11.7        8          high  \n",
       "1269     14.0        8          high  \n",
       "1403     10.0        8          high  \n",
       "1449     11.3        8          high  \n",
       "1549     11.4        8          high  "
      ]
     },
     "execution_count": 200,
     "metadata": {},
     "output_type": "execute_result"
    }
   ],
   "source": [
    "medium_red = red_wine[red_wine.quality_label == \"medium\"]\n",
    "high_red = red_wine[red_wine.quality_label == \"high\"]\n",
    "high_red"
   ]
  },
  {
   "cell_type": "code",
   "execution_count": 213,
   "metadata": {},
   "outputs": [
    {
     "data": {
      "text/plain": [
       "Text(0, 0.5, 'chloride amount')"
      ]
     },
     "execution_count": 213,
     "metadata": {},
     "output_type": "execute_result"
    },
    {
     "data": {
      "image/png": "[encoded data removed]",
      "text/plain": [
       "<Figure size 432x288 with 1 Axes>"
      ]
     },
     "metadata": {
      "needs_background": "light"
     },
     "output_type": "display_data"
    }
   ],
   "source": [
    "plt.plot(medium_red.alcohol, medium_red.chlorides, \"o\")\n",
    "plt.legend([\"Alcohol\", \"Chlorides\"])\n",
    "plt.xlabel(\"alcohol in promille\")\n",
    "plt.ylabel(\"chloride amount\")\n",
    "#plt.plot(medium_red.alcohol,medium_red.alcohol / 10**6)\n",
    "#plt.plot(medium_red.chlorides,medium_red.chlorides / 10**6)"
   ]
  },
  {
   "cell_type": "code",
   "execution_count": 230,
   "metadata": {},
   "outputs": [
    {
     "data": {
      "text/plain": [
       "Text(0.5, 0, 'alcohol in promille')"
      ]
     },
     "execution_count": 230,
     "metadata": {},
     "output_type": "execute_result"
    },
    {
     "data": {
      "image/png": "[encoded data removed]",
      "text/plain": [
       "<Figure size 432x288 with 1 Axes>"
      ]
     },
     "metadata": {
      "needs_background": "light"
     },
     "output_type": "display_data"
    }
   ],
   "source": [
    "plt.plot(medium_red.alcohol, medium_red.quality_label,\"+\", high_red.alcohol, high_red.quality_label, \"o\")\n",
    "plt.xlabel(\"alcohol in promille\")\n"
   ]
  },
  {
   "cell_type": "code",
   "execution_count": 244,
   "metadata": {},
   "outputs": [
    {
     "data": {
      "text/plain": [
       "<AxesSubplot:ylabel='Frequency'>"
      ]
     },
     "execution_count": 244,
     "metadata": {},
     "output_type": "execute_result"
    },
    {
     "data": {
      "image/png": "[encoded data removed]",
      "text/plain": [
       "<Figure size 720x576 with 1 Axes>"
      ]
     },
     "metadata": {
      "needs_background": "light"
     },
     "output_type": "display_data"
    }
   ],
   "source": [
    "#hist multiple variables\n",
    "\n",
    "high_red.alcohol.plot.hist(bins=40, figsize=(10,8))\n",
    "#high_red.density.plot.hist()\n",
    "#high_red.pH.plot.hist()\n",
    "\n"
   ]
  },
  {
   "cell_type": "code",
   "execution_count": 248,
   "metadata": {},
   "outputs": [
    {
     "data": {
      "text/html": [
       "<div>\n",
       "<style scoped>\n",
       "    .dataframe tbody tr th:only-of-type {\n",
       "        vertical-align: middle;\n",
       "    }\n",
       "\n",
       "    .dataframe tbody tr th {\n",
       "        vertical-align: top;\n",
       "    }\n",
       "\n",
       "    .dataframe thead th {\n",
       "        text-align: right;\n",
       "    }\n",
       "</style>\n",
       "<table border=\"1\" class=\"dataframe\">\n",
       "  <thead>\n",
       "    <tr style=\"text-align: right;\">\n",
       "      <th></th>\n",
       "      <th>alcohol</th>\n",
       "      <th>residual sugar</th>\n",
       "      <th>density</th>\n",
       "      <th>quality_label</th>\n",
       "    </tr>\n",
       "  </thead>\n",
       "  <tbody>\n",
       "    <tr>\n",
       "      <th>0</th>\n",
       "      <td>9.4</td>\n",
       "      <td>1.9</td>\n",
       "      <td>0.99780</td>\n",
       "      <td>low</td>\n",
       "    </tr>\n",
       "    <tr>\n",
       "      <th>1</th>\n",
       "      <td>9.8</td>\n",
       "      <td>2.6</td>\n",
       "      <td>0.99680</td>\n",
       "      <td>low</td>\n",
       "    </tr>\n",
       "    <tr>\n",
       "      <th>2</th>\n",
       "      <td>9.8</td>\n",
       "      <td>2.3</td>\n",
       "      <td>0.99700</td>\n",
       "      <td>low</td>\n",
       "    </tr>\n",
       "    <tr>\n",
       "      <th>3</th>\n",
       "      <td>9.8</td>\n",
       "      <td>1.9</td>\n",
       "      <td>0.99800</td>\n",
       "      <td>medium</td>\n",
       "    </tr>\n",
       "    <tr>\n",
       "      <th>4</th>\n",
       "      <td>9.4</td>\n",
       "      <td>1.9</td>\n",
       "      <td>0.99780</td>\n",
       "      <td>low</td>\n",
       "    </tr>\n",
       "    <tr>\n",
       "      <th>...</th>\n",
       "      <td>...</td>\n",
       "      <td>...</td>\n",
       "      <td>...</td>\n",
       "      <td>...</td>\n",
       "    </tr>\n",
       "    <tr>\n",
       "      <th>1594</th>\n",
       "      <td>10.5</td>\n",
       "      <td>2.0</td>\n",
       "      <td>0.99490</td>\n",
       "      <td>low</td>\n",
       "    </tr>\n",
       "    <tr>\n",
       "      <th>1595</th>\n",
       "      <td>11.2</td>\n",
       "      <td>2.2</td>\n",
       "      <td>0.99512</td>\n",
       "      <td>medium</td>\n",
       "    </tr>\n",
       "    <tr>\n",
       "      <th>1596</th>\n",
       "      <td>11.0</td>\n",
       "      <td>2.3</td>\n",
       "      <td>0.99574</td>\n",
       "      <td>medium</td>\n",
       "    </tr>\n",
       "    <tr>\n",
       "      <th>1597</th>\n",
       "      <td>10.2</td>\n",
       "      <td>2.0</td>\n",
       "      <td>0.99547</td>\n",
       "      <td>low</td>\n",
       "    </tr>\n",
       "    <tr>\n",
       "      <th>1598</th>\n",
       "      <td>11.0</td>\n",
       "      <td>3.6</td>\n",
       "      <td>0.99549</td>\n",
       "      <td>medium</td>\n",
       "    </tr>\n",
       "  </tbody>\n",
       "</table>\n",
       "<p>1599 rows × 4 columns</p>\n",
       "</div>"
      ],
      "text/plain": [
       "      alcohol  residual sugar  density quality_label\n",
       "0         9.4             1.9  0.99780           low\n",
       "1         9.8             2.6  0.99680           low\n",
       "2         9.8             2.3  0.99700           low\n",
       "3         9.8             1.9  0.99800        medium\n",
       "4         9.4             1.9  0.99780           low\n",
       "...       ...             ...      ...           ...\n",
       "1594     10.5             2.0  0.99490           low\n",
       "1595     11.2             2.2  0.99512        medium\n",
       "1596     11.0             2.3  0.99574        medium\n",
       "1597     10.2             2.0  0.99547           low\n",
       "1598     11.0             3.6  0.99549        medium\n",
       "\n",
       "[1599 rows x 4 columns]"
      ]
     },
     "execution_count": 248,
     "metadata": {},
     "output_type": "execute_result"
    }
   ],
   "source": [
    "red_wine[[\"alcohol\", \"residual sugar\", \"density\", \"quality_label\"]]"
   ]
  },
  {
   "cell_type": "code",
   "execution_count": 263,
   "metadata": {},
   "outputs": [
    {
     "data": {
      "text/plain": [
       "<function matplotlib.pyplot.show(close=None, block=None)>"
      ]
     },
     "execution_count": 263,
     "metadata": {},
     "output_type": "execute_result"
    },
    {
     "data": {
      "image/png": "[encoded data removed]",
      "text/plain": [
       "<Figure size 720x432 with 1 Axes>"
      ]
     },
     "metadata": {
      "needs_background": "light"
     },
     "output_type": "display_data"
    }
   ],
   "source": [
    "red_wine[[\"alcohol\", \"residual sugar\", \"quality_label\"]].plot.hist(bins=40, figsize=(10,6), alpha=0.6, sharex=True, sharey=True)\n",
    "plt.show"
   ]
  },
  {
   "cell_type": "code",
   "execution_count": 259,
   "metadata": {},
   "outputs": [
    {
     "data": {
      "text/plain": [
       "array([[<AxesSubplot:title={'center':'alcohol'}>,\n",
       "        <AxesSubplot:title={'center':'residual sugar'}>]], dtype=object)"
      ]
     },
     "execution_count": 259,
     "metadata": {},
     "output_type": "execute_result"
    },
    {
     "data": {
      "image/png": "[encoded data removed]",
      "text/plain": [
       "<Figure size 864x576 with 2 Axes>"
      ]
     },
     "metadata": {
      "needs_background": "light"
     },
     "output_type": "display_data"
    }
   ],
   "source": [
    "red_wine[[\"alcohol\", \"residual sugar\", \"quality_label\"]].hist(bins=40, figsize=(12,8), alpha=0.6,grid=False, rwidth=0.8)\n"
   ]
  }
 ],
 "metadata": {
  "kernelspec": {
   "display_name": "Python 3.9.12 ('base')",
   "language": "python",
   "name": "python3"
  },
  "language_info": {
   "codemirror_mode": {
    "name": "ipython",
    "version": 3
   },
   "file_extension": ".py",
   "mimetype": "text/x-python",
   "name": "python",
   "nbconvert_exporter": "python",
   "pygments_lexer": "ipython3",
   "version": "3.9.12"
  },
  "orig_nbformat": 4,
  "vscode": {
   "interpreter": {
    "hash": "53268d429fe8007277d58353424377c3c56a51408f44f169cee4649a7ccfd4de"
   }
  }
 },
 "nbformat": 4,
 "nbformat_minor": 2
}
