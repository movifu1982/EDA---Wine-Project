{
 "cells": [
  {
   "cell_type": "code",
   "execution_count": 52,
   "metadata": {},
   "outputs": [],
   "source": [
    "#Game plan:\n",
    "\n",
    "#comparison between the 5-6 wines and the 7-8 wines. What needs to be changed for the 5-6 wines to be ranked 7-8? How many do we have as 5-6 and 7-8?\n",
    "#compare pH, density, sugar, alcohol, sulphates, chlorides, with Quality. DONE.\n",
    "#chart with prices per bottle. \n",
    "#chart with quality rating in order, tilted barchart and/or pie chart.\n",
    "#scatterplot...\n",
    "\n",
    "#Why red? In the long run they get valued higher = generate a higher profit.\n",
    "\n",
    "#Test some hypothesis:\n",
    "\n",
    "#the more alcohol, the higher the quality?\n",
    "#the less sulphates, the higher the quality?\n",
    "\n",
    "\n",
    "\n",
    "#Final notes:\n",
    "#good to have had: info on age, cost of production\n",
    "#what I would have liked; deep dive in white wine as well. \n",
    "\n"
   ]
  },
  {
   "cell_type": "code",
   "execution_count": 53,
   "metadata": {},
   "outputs": [],
   "source": [
    "#Come up with at least 3 more charts with explanations.\n",
    "#after box plot, do scatterplot\n",
    "#sharey axis, important to get the same numbers"
   ]
  },
  {
   "cell_type": "code",
   "execution_count": 54,
   "metadata": {},
   "outputs": [],
   "source": [
    "import numpy as np\n",
    "import pandas as pd\n",
    "import matplotlib.pyplot as plt\n",
    "import seaborn as sns"
   ]
  },
  {
   "cell_type": "code",
   "execution_count": 55,
   "metadata": {},
   "outputs": [
    {
     "data": {
      "text/plain": [
       "fixed acidity           1599\n",
       "volatile acidity        1599\n",
       "citric acid             1599\n",
       "residual sugar          1599\n",
       "chlorides               1599\n",
       "free sulfur dioxide     1599\n",
       "total sulfur dioxide    1599\n",
       "density                 1599\n",
       "pH                      1599\n",
       "sulphates               1599\n",
       "alcohol                 1599\n",
       "quality                 1599\n",
       "dtype: int64"
      ]
     },
     "execution_count": 55,
     "metadata": {},
     "output_type": "execute_result"
    }
   ],
   "source": [
    "red_wine = pd.read_csv('https://archive.ics.uci.edu/ml/machine-learning-databases/wine-quality/winequality-red.csv', sep=\";\")\n",
    "#white_wine = pd.read_csv('https://archive.ics.uci.edu/ml/machine-learning-databases/wine-quality/winequality-white.csv', sep=\";\")\n",
    "df=red_wine\n",
    "\n",
    "red_wine.count()\n",
    "#red_wine.head(5)"
   ]
  },
  {
   "cell_type": "code",
   "execution_count": 63,
   "metadata": {},
   "outputs": [
    {
     "ename": "TypeError",
     "evalue": "'DataFrame' object is not callable",
     "output_type": "error",
     "traceback": [
      "\u001b[0;31m---------------------------------------------------------------------------\u001b[0m",
      "\u001b[0;31mTypeError\u001b[0m                                 Traceback (most recent call last)",
      "\u001b[1;32m/Users/monicavillarfuentes/codeacademy/EDA/homework.ipynb Cell 5\u001b[0m in \u001b[0;36m<cell line: 11>\u001b[0;34m()\u001b[0m\n\u001b[1;32m      <a href='vscode-notebook-cell:/Users/monicavillarfuentes/codeacademy/EDA/homework.ipynb#W4sZmlsZQ%3D%3D?line=4'>5</a>\u001b[0m \u001b[39m# 3 4 5 are low, 6 7 medium, 8 and nonexistent 9 are high\u001b[39;00m\n\u001b[1;32m      <a href='vscode-notebook-cell:/Users/monicavillarfuentes/codeacademy/EDA/homework.ipynb#W4sZmlsZQ%3D%3D?line=5'>6</a>\u001b[0m \u001b[39m#changed to: 3 4 low, 5 6 medium, 7 8 (and 9) high\u001b[39;00m\n\u001b[1;32m      <a href='vscode-notebook-cell:/Users/monicavillarfuentes/codeacademy/EDA/homework.ipynb#W4sZmlsZQ%3D%3D?line=7'>8</a>\u001b[0m red_wine[\u001b[39m'\u001b[39m\u001b[39mquality_label\u001b[39m\u001b[39m'\u001b[39m] \u001b[39m=\u001b[39m pd\u001b[39m.\u001b[39mCategorical(red_wine[\u001b[39m'\u001b[39m\u001b[39mquality_label\u001b[39m\u001b[39m'\u001b[39m],\n\u001b[1;32m      <a href='vscode-notebook-cell:/Users/monicavillarfuentes/codeacademy/EDA/homework.ipynb#W4sZmlsZQ%3D%3D?line=8'>9</a>\u001b[0m categories\u001b[39m=\u001b[39m[\u001b[39m'\u001b[39m\u001b[39mlow\u001b[39m\u001b[39m'\u001b[39m, \u001b[39m'\u001b[39m\u001b[39mmedium\u001b[39m\u001b[39m'\u001b[39m, \u001b[39m'\u001b[39m\u001b[39mhigh\u001b[39m\u001b[39m'\u001b[39m])\n\u001b[0;32m---> <a href='vscode-notebook-cell:/Users/monicavillarfuentes/codeacademy/EDA/homework.ipynb#W4sZmlsZQ%3D%3D?line=10'>11</a>\u001b[0m red_wine(quality_label\u001b[39m=\u001b[39;49m \u001b[39m\"\u001b[39;49m\u001b[39mhigh\u001b[39;49m\u001b[39m\"\u001b[39;49m)\n",
      "\u001b[0;31mTypeError\u001b[0m: 'DataFrame' object is not callable"
     ]
    }
   ],
   "source": [
    "red_wine['quality_label'] = red_wine['quality'].apply(lambda value: 'low'\n",
    "if value <= 4 else 'medium'\n",
    "if value <= 6 else 'high')\n",
    "\n",
    "# 3 4 5 are low, 6 7 medium, 8 and nonexistent 9 are high\n",
    "#changed to: 3 4 low, 5 6 medium, 7 8 (and 9) high\n",
    "\n",
    "red_wine['quality_label'] = pd.Categorical(red_wine['quality_label'],\n",
    "categories=['low', 'medium', 'high'])\n",
    "\n",
    "red_wine\n"
   ]
  },
  {
   "cell_type": "code",
   "execution_count": null,
   "metadata": {},
   "outputs": [
    {
     "data": {
      "text/html": [
       "<div>\n",
       "<style scoped>\n",
       "    .dataframe tbody tr th:only-of-type {\n",
       "        vertical-align: middle;\n",
       "    }\n",
       "\n",
       "    .dataframe tbody tr th {\n",
       "        vertical-align: top;\n",
       "    }\n",
       "\n",
       "    .dataframe thead th {\n",
       "        text-align: right;\n",
       "    }\n",
       "</style>\n",
       "<table border=\"1\" class=\"dataframe\">\n",
       "  <thead>\n",
       "    <tr style=\"text-align: right;\">\n",
       "      <th></th>\n",
       "      <th>fixed acidity</th>\n",
       "      <th>volatile acidity</th>\n",
       "      <th>citric acid</th>\n",
       "      <th>residual sugar</th>\n",
       "      <th>chlorides</th>\n",
       "      <th>free sulfur dioxide</th>\n",
       "      <th>total sulfur dioxide</th>\n",
       "      <th>density</th>\n",
       "      <th>pH</th>\n",
       "      <th>sulphates</th>\n",
       "      <th>alcohol</th>\n",
       "      <th>quality</th>\n",
       "      <th>quality_label</th>\n",
       "    </tr>\n",
       "  </thead>\n",
       "  <tbody>\n",
       "    <tr>\n",
       "      <th>0</th>\n",
       "      <td>7.4</td>\n",
       "      <td>0.700</td>\n",
       "      <td>0.00</td>\n",
       "      <td>1.9</td>\n",
       "      <td>0.076</td>\n",
       "      <td>11.0</td>\n",
       "      <td>34.0</td>\n",
       "      <td>0.99780</td>\n",
       "      <td>3.51</td>\n",
       "      <td>0.56</td>\n",
       "      <td>9.4</td>\n",
       "      <td>5</td>\n",
       "      <td>medium</td>\n",
       "    </tr>\n",
       "    <tr>\n",
       "      <th>1</th>\n",
       "      <td>7.8</td>\n",
       "      <td>0.880</td>\n",
       "      <td>0.00</td>\n",
       "      <td>2.6</td>\n",
       "      <td>0.098</td>\n",
       "      <td>25.0</td>\n",
       "      <td>67.0</td>\n",
       "      <td>0.99680</td>\n",
       "      <td>3.20</td>\n",
       "      <td>0.68</td>\n",
       "      <td>9.8</td>\n",
       "      <td>5</td>\n",
       "      <td>medium</td>\n",
       "    </tr>\n",
       "    <tr>\n",
       "      <th>2</th>\n",
       "      <td>7.8</td>\n",
       "      <td>0.760</td>\n",
       "      <td>0.04</td>\n",
       "      <td>2.3</td>\n",
       "      <td>0.092</td>\n",
       "      <td>15.0</td>\n",
       "      <td>54.0</td>\n",
       "      <td>0.99700</td>\n",
       "      <td>3.26</td>\n",
       "      <td>0.65</td>\n",
       "      <td>9.8</td>\n",
       "      <td>5</td>\n",
       "      <td>medium</td>\n",
       "    </tr>\n",
       "    <tr>\n",
       "      <th>3</th>\n",
       "      <td>11.2</td>\n",
       "      <td>0.280</td>\n",
       "      <td>0.56</td>\n",
       "      <td>1.9</td>\n",
       "      <td>0.075</td>\n",
       "      <td>17.0</td>\n",
       "      <td>60.0</td>\n",
       "      <td>0.99800</td>\n",
       "      <td>3.16</td>\n",
       "      <td>0.58</td>\n",
       "      <td>9.8</td>\n",
       "      <td>6</td>\n",
       "      <td>medium</td>\n",
       "    </tr>\n",
       "    <tr>\n",
       "      <th>4</th>\n",
       "      <td>7.4</td>\n",
       "      <td>0.700</td>\n",
       "      <td>0.00</td>\n",
       "      <td>1.9</td>\n",
       "      <td>0.076</td>\n",
       "      <td>11.0</td>\n",
       "      <td>34.0</td>\n",
       "      <td>0.99780</td>\n",
       "      <td>3.51</td>\n",
       "      <td>0.56</td>\n",
       "      <td>9.4</td>\n",
       "      <td>5</td>\n",
       "      <td>medium</td>\n",
       "    </tr>\n",
       "    <tr>\n",
       "      <th>...</th>\n",
       "      <td>...</td>\n",
       "      <td>...</td>\n",
       "      <td>...</td>\n",
       "      <td>...</td>\n",
       "      <td>...</td>\n",
       "      <td>...</td>\n",
       "      <td>...</td>\n",
       "      <td>...</td>\n",
       "      <td>...</td>\n",
       "      <td>...</td>\n",
       "      <td>...</td>\n",
       "      <td>...</td>\n",
       "      <td>...</td>\n",
       "    </tr>\n",
       "    <tr>\n",
       "      <th>1594</th>\n",
       "      <td>6.2</td>\n",
       "      <td>0.600</td>\n",
       "      <td>0.08</td>\n",
       "      <td>2.0</td>\n",
       "      <td>0.090</td>\n",
       "      <td>32.0</td>\n",
       "      <td>44.0</td>\n",
       "      <td>0.99490</td>\n",
       "      <td>3.45</td>\n",
       "      <td>0.58</td>\n",
       "      <td>10.5</td>\n",
       "      <td>5</td>\n",
       "      <td>medium</td>\n",
       "    </tr>\n",
       "    <tr>\n",
       "      <th>1595</th>\n",
       "      <td>5.9</td>\n",
       "      <td>0.550</td>\n",
       "      <td>0.10</td>\n",
       "      <td>2.2</td>\n",
       "      <td>0.062</td>\n",
       "      <td>39.0</td>\n",
       "      <td>51.0</td>\n",
       "      <td>0.99512</td>\n",
       "      <td>3.52</td>\n",
       "      <td>0.76</td>\n",
       "      <td>11.2</td>\n",
       "      <td>6</td>\n",
       "      <td>medium</td>\n",
       "    </tr>\n",
       "    <tr>\n",
       "      <th>1596</th>\n",
       "      <td>6.3</td>\n",
       "      <td>0.510</td>\n",
       "      <td>0.13</td>\n",
       "      <td>2.3</td>\n",
       "      <td>0.076</td>\n",
       "      <td>29.0</td>\n",
       "      <td>40.0</td>\n",
       "      <td>0.99574</td>\n",
       "      <td>3.42</td>\n",
       "      <td>0.75</td>\n",
       "      <td>11.0</td>\n",
       "      <td>6</td>\n",
       "      <td>medium</td>\n",
       "    </tr>\n",
       "    <tr>\n",
       "      <th>1597</th>\n",
       "      <td>5.9</td>\n",
       "      <td>0.645</td>\n",
       "      <td>0.12</td>\n",
       "      <td>2.0</td>\n",
       "      <td>0.075</td>\n",
       "      <td>32.0</td>\n",
       "      <td>44.0</td>\n",
       "      <td>0.99547</td>\n",
       "      <td>3.57</td>\n",
       "      <td>0.71</td>\n",
       "      <td>10.2</td>\n",
       "      <td>5</td>\n",
       "      <td>medium</td>\n",
       "    </tr>\n",
       "    <tr>\n",
       "      <th>1598</th>\n",
       "      <td>6.0</td>\n",
       "      <td>0.310</td>\n",
       "      <td>0.47</td>\n",
       "      <td>3.6</td>\n",
       "      <td>0.067</td>\n",
       "      <td>18.0</td>\n",
       "      <td>42.0</td>\n",
       "      <td>0.99549</td>\n",
       "      <td>3.39</td>\n",
       "      <td>0.66</td>\n",
       "      <td>11.0</td>\n",
       "      <td>6</td>\n",
       "      <td>medium</td>\n",
       "    </tr>\n",
       "  </tbody>\n",
       "</table>\n",
       "<p>1599 rows × 13 columns</p>\n",
       "</div>"
      ],
      "text/plain": [
       "      fixed acidity  volatile acidity  citric acid  residual sugar  chlorides  \\\n",
       "0               7.4             0.700         0.00             1.9      0.076   \n",
       "1               7.8             0.880         0.00             2.6      0.098   \n",
       "2               7.8             0.760         0.04             2.3      0.092   \n",
       "3              11.2             0.280         0.56             1.9      0.075   \n",
       "4               7.4             0.700         0.00             1.9      0.076   \n",
       "...             ...               ...          ...             ...        ...   \n",
       "1594            6.2             0.600         0.08             2.0      0.090   \n",
       "1595            5.9             0.550         0.10             2.2      0.062   \n",
       "1596            6.3             0.510         0.13             2.3      0.076   \n",
       "1597            5.9             0.645         0.12             2.0      0.075   \n",
       "1598            6.0             0.310         0.47             3.6      0.067   \n",
       "\n",
       "      free sulfur dioxide  total sulfur dioxide  density    pH  sulphates  \\\n",
       "0                    11.0                  34.0  0.99780  3.51       0.56   \n",
       "1                    25.0                  67.0  0.99680  3.20       0.68   \n",
       "2                    15.0                  54.0  0.99700  3.26       0.65   \n",
       "3                    17.0                  60.0  0.99800  3.16       0.58   \n",
       "4                    11.0                  34.0  0.99780  3.51       0.56   \n",
       "...                   ...                   ...      ...   ...        ...   \n",
       "1594                 32.0                  44.0  0.99490  3.45       0.58   \n",
       "1595                 39.0                  51.0  0.99512  3.52       0.76   \n",
       "1596                 29.0                  40.0  0.99574  3.42       0.75   \n",
       "1597                 32.0                  44.0  0.99547  3.57       0.71   \n",
       "1598                 18.0                  42.0  0.99549  3.39       0.66   \n",
       "\n",
       "      alcohol  quality quality_label  \n",
       "0         9.4        5        medium  \n",
       "1         9.8        5        medium  \n",
       "2         9.8        5        medium  \n",
       "3         9.8        6        medium  \n",
       "4         9.4        5        medium  \n",
       "...       ...      ...           ...  \n",
       "1594     10.5        5        medium  \n",
       "1595     11.2        6        medium  \n",
       "1596     11.0        6        medium  \n",
       "1597     10.2        5        medium  \n",
       "1598     11.0        6        medium  \n",
       "\n",
       "[1599 rows x 13 columns]"
      ]
     },
     "execution_count": 6,
     "metadata": {},
     "output_type": "execute_result"
    }
   ],
   "source": [
    "#only_alcohol= red_wine[\"alcohol\"].value_counts()\n",
    "#plt.figure(figsize=(15, 10))\n",
    "#plt.bar(only_alcohol.index, only_alcohol, width=0.1, color=\"grey\")\n",
    "#plt.title(\"Amount of alcohol in red wine\")\n",
    "#plt.xlabel(\"Alcohol\")\n",
    "#plt.ylabel(\"Count\")\n",
    "\n",
    "#plt.show()\n",
    "red_wine\n"
   ]
  },
  {
   "cell_type": "code",
   "execution_count": null,
   "metadata": {},
   "outputs": [
    {
     "data": {
      "image/png": "[encoded data removed]",
      "text/plain": [
       "<Figure size 576x576 with 1 Axes>"
      ]
     },
     "metadata": {
      "needs_background": "light"
     },
     "output_type": "display_data"
    }
   ],
   "source": [
    "quality = red_wine[\"quality\"].value_counts()\n",
    "plt.figure(figsize=(8, 8))\n",
    "plt.bar(quality.index, quality, width=0.6, color=\"darkred\")\n",
    "plt.title(\"Quality red wine\")\n",
    "plt.xlabel(\"Quality 3-8 where 3 is the lowest\")\n",
    "plt.ylabel(\"Amount of wines\")\n",
    "plt.savefig(\"Quality of red wine.png\", dpi=300)\n",
    "plt.legend([(\"3 and 4 = low  5 and 6 = medium  7 and 8 = high\")])\n",
    "\n",
    "plt.show()"
   ]
  },
  {
   "cell_type": "code",
   "execution_count": null,
   "metadata": {},
   "outputs": [
    {
     "data": {
      "image/png": "[encoded data removed]",
      "text/plain": [
       "<Figure size 576x576 with 1 Axes>"
      ]
     },
     "metadata": {
      "needs_background": "light"
     },
     "output_type": "display_data"
    }
   ],
   "source": [
    "quality= red_wine[\"quality\"].value_counts()\n",
    "plt.figure(figsize=(8, 8))\n",
    "plt.bar(quality.index, quality, width=0.6, color=\"darkred\")\n",
    "plt.title(\"Quality red wine\")\n",
    "plt.xlabel(\"Quality 3-8 where 3 is the lowest\")\n",
    "plt.ylabel(\"Amount of wines\")\n",
    "plt.savefig(\"Quality of red wine.png\", dpi=300)\n",
    "plt.legend([(\"3 and 4 = 10 EUR  5 and 6 = 20 EUR  7 and 8 =30 EUR\")])\n",
    "\n",
    "plt.show()"
   ]
  },
  {
   "cell_type": "code",
   "execution_count": null,
   "metadata": {},
   "outputs": [
    {
     "data": {
      "text/plain": [
       "([<matplotlib.patches.Wedge at 0x7fe54c0aadc0>,\n",
       "  <matplotlib.patches.Wedge at 0x7fe54c0b6520>,\n",
       "  <matplotlib.patches.Wedge at 0x7fe54c0b6c40>],\n",
       " [Text(-0.8626063070997455, -1.40655976017791, 'medium'),\n",
       "  Text(1.0296631183459202, 1.2892997567354754, 'high'),\n",
       "  Text(0.20371188297120654, 1.6373763980027092, 'low')],\n",
       " [Text(-0.47051253114531566, -0.7672144146424963, '82.5%'),\n",
       "  Text(0.5616344281886837, 0.7032544127648046, '13.6%'),\n",
       "  Text(0.111115572529749, 0.8931143989105684, '3.9%')])"
      ]
     },
     "execution_count": 9,
     "metadata": {},
     "output_type": "execute_result"
    },
    {
     "data": {
      "image/png": "[encoded data removed]",
      "text/plain": [
       "<Figure size 432x288 with 1 Axes>"
      ]
     },
     "metadata": {},
     "output_type": "display_data"
    }
   ],
   "source": [
    "red_comparison = red_wine[\"quality_label\"].value_counts()\n",
    "labels=(\"medium\", \"high\", \"low\")\n",
    "colors=(\"pink\", \"red\", \"darkred\")\n",
    "\n",
    "plt.pie(red_comparison, labels=labels,radius=1.5, startangle=90, colors=colors, autopct='%1.1f%%')\n"
   ]
  },
  {
   "cell_type": "code",
   "execution_count": null,
   "metadata": {},
   "outputs": [
    {
     "data": {
      "image/png": "[encoded data removed]",
      "text/plain": [
       "<Figure size 1080x432 with 1 Axes>"
      ]
     },
     "metadata": {
      "needs_background": "light"
     },
     "output_type": "display_data"
    }
   ],
   "source": [
    "#hist\n",
    "plt.figure(figsize=(15, 6))\n",
    "plt.title(\"pH\")\n",
    "plt.hist(red_wine['pH'], color='darkgreen', bins=80,\n",
    "         edgecolor='grey', linewidth=0.5)\n",
    "plt.show()"
   ]
  },
  {
   "cell_type": "code",
   "execution_count": null,
   "metadata": {},
   "outputs": [
    {
     "data": {
      "image/png": "[encoded data removed]",
      "text/plain": [
       "<Figure size 1080x432 with 1 Axes>"
      ]
     },
     "metadata": {
      "needs_background": "light"
     },
     "output_type": "display_data"
    }
   ],
   "source": [
    "#hist\n",
    "plt.figure(figsize=(15, 6))\n",
    "plt.title(\"title\")\n",
    "plt.hist(red_wine['residual sugar'], color='green', bins=80,\n",
    "         edgecolor='grey', linewidth=0.5)\n",
    "plt.show()"
   ]
  },
  {
   "cell_type": "code",
   "execution_count": null,
   "metadata": {},
   "outputs": [
    {
     "data": {
      "image/png": "[encoded data removed]",
      "text/plain": [
       "<Figure size 432x288 with 2 Axes>"
      ]
     },
     "metadata": {
      "needs_background": "light"
     },
     "output_type": "display_data"
    }
   ],
   "source": [
    "fig, axs = plt.subplots(1, 2, sharey=\"row\", tight_layout=True)\n",
    "\n",
    "axs[0].set_title(\"alcohol\")\n",
    "axs[1].set_title(\"pH\")\n",
    "\n",
    "axs[0].hist(red_wine['alcohol'], color='darkred', bins=80,\n",
    "         edgecolor='grey', linewidth=0.5)\n",
    "axs[1].hist(red_wine['pH'], color='darkred', bins=80,\n",
    "         edgecolor='grey', linewidth=0.5)\n",
    "\n",
    "\n",
    "plt.show()"
   ]
  },
  {
   "cell_type": "code",
   "execution_count": null,
   "metadata": {},
   "outputs": [
    {
     "data": {
      "image/png": "[encoded data removed]",
      "text/plain": [
       "<Figure size 432x288 with 2 Axes>"
      ]
     },
     "metadata": {
      "needs_background": "light"
     },
     "output_type": "display_data"
    }
   ],
   "source": [
    "fig, axs = plt.subplots(1, 2, sharey=\"row\", tight_layout=True)\n",
    "\n",
    "axs[0].set_title(\"sulphates\")\n",
    "axs[1].set_title(\"density\")\n",
    "\n",
    "axs[0].hist(red_wine['sulphates'], color='darkred', bins=80,\n",
    "         edgecolor='grey', linewidth=0.5)\n",
    "axs[1].hist(red_wine['density'], color='darkred', bins=80,\n",
    "         edgecolor='grey', linewidth=0.5)\n",
    "\n",
    "\n",
    "plt.show()"
   ]
  },
  {
   "cell_type": "code",
   "execution_count": null,
   "metadata": {},
   "outputs": [
    {
     "data": {
      "image/png": "[encoded data removed]",
      "text/plain": [
       "<Figure size 432x288 with 2 Axes>"
      ]
     },
     "metadata": {
      "needs_background": "light"
     },
     "output_type": "display_data"
    }
   ],
   "source": [
    "fig, axs = plt.subplots(1, 2, sharey=\"row\", tight_layout=True)\n",
    "\n",
    "axs[0].set_title(\"chlorides\")\n",
    "axs[1].set_title(\"residual sugar\")\n",
    "\n",
    "axs[0].hist(red_wine['chlorides'], color='darkred', bins=80,\n",
    "         edgecolor='grey', linewidth=0.5)\n",
    "axs[1].hist(red_wine['residual sugar'], color='darkred', bins=80,\n",
    "         edgecolor='grey', linewidth=0.5)\n",
    "\n",
    "plt.show()"
   ]
  },
  {
   "cell_type": "code",
   "execution_count": null,
   "metadata": {},
   "outputs": [],
   "source": [
    "sorted = np.sort(red_wine['quality'].unique())"
   ]
  },
  {
   "cell_type": "code",
   "execution_count": null,
   "metadata": {},
   "outputs": [
    {
     "data": {
      "text/plain": [
       "Text(0.5, 1.0, 'Chlorides')"
      ]
     },
     "execution_count": 47,
     "metadata": {},
     "output_type": "execute_result"
    },
    {
     "data": {
      "image/png": "[encoded data removed]",
      "text/plain": [
       "<Figure size 432x288 with 1 Axes>"
      ]
     },
     "metadata": {
      "needs_background": "light"
     },
     "output_type": "display_data"
    }
   ],
   "source": [
    "quality_chlorides = {}\n",
    "for i in sorted:\n",
    "    quality_chlorides[i] = red_wine[red_wine['quality'] == i].chlorides\n",
    "plt.boxplot([x for x in quality_chlorides.values()],\n",
    "            labels=[x for x in quality_chlorides.keys()])\n",
    "#x and y-axis labels\n",
    "plt.xlabel('Quality')\n",
    "plt.ylabel('')\n",
    "#plot title\n",
    "plt.title('Chlorides')\n",
    "\n",
    "\n"
   ]
  },
  {
   "cell_type": "code",
   "execution_count": null,
   "metadata": {},
   "outputs": [
    {
     "data": {
      "text/plain": [
       "Text(0.5, 1.0, 'Residual sugar')"
      ]
     },
     "execution_count": 43,
     "metadata": {},
     "output_type": "execute_result"
    },
    {
     "data": {
      "image/png": "[encoded data removed]",
      "text/plain": [
       "<Figure size 432x288 with 1 Axes>"
      ]
     },
     "metadata": {
      "needs_background": "light"
     },
     "output_type": "display_data"
    }
   ],
   "source": [
    "quality_sugar = {}\n",
    "for i in sorted:\n",
    "    quality_sugar[i] = red_wine[red_wine['quality'] == i][(\"residual sugar\")]\n",
    "plt.boxplot([x for x in quality_sugar.values()],\n",
    "            labels=[x for x in quality_sugar.keys()])\n",
    "#x and y-axis labels\n",
    "plt.xlabel('Quality')\n",
    "plt.ylabel('')\n",
    "#plot title\n",
    "plt.title('Residual sugar')"
   ]
  },
  {
   "cell_type": "code",
   "execution_count": null,
   "metadata": {},
   "outputs": [
    {
     "data": {
      "text/plain": [
       "Text(0.5, 1.0, 'Density')"
      ]
     },
     "execution_count": 44,
     "metadata": {},
     "output_type": "execute_result"
    },
    {
     "data": {
      "image/png": "[encoded data removed]",
      "text/plain": [
       "<Figure size 432x288 with 1 Axes>"
      ]
     },
     "metadata": {
      "needs_background": "light"
     },
     "output_type": "display_data"
    }
   ],
   "source": [
    "quality_density = {}\n",
    "for i in sorted:\n",
    "    quality_density[i] = red_wine[red_wine['quality'] == i].density\n",
    "plt.boxplot([x for x in quality_density.values()],\n",
    "            labels=[x for x in quality_density.keys()])\n",
    "#x and y-axis labels\n",
    "plt.xlabel('Quality')\n",
    "plt.ylabel('')\n",
    "#plot title\n",
    "plt.title('Density')"
   ]
  },
  {
   "cell_type": "code",
   "execution_count": null,
   "metadata": {},
   "outputs": [
    {
     "data": {
      "text/plain": [
       "Text(0.5, 1.0, 'Sulphates')"
      ]
     },
     "execution_count": 45,
     "metadata": {},
     "output_type": "execute_result"
    },
    {
     "data": {
      "image/png": "[encoded data removed]",
      "text/plain": [
       "<Figure size 432x288 with 1 Axes>"
      ]
     },
     "metadata": {
      "needs_background": "light"
     },
     "output_type": "display_data"
    }
   ],
   "source": [
    "quality_sulphates = {}\n",
    "for i in sorted:\n",
    "    quality_sulphates[i] = red_wine[red_wine['quality'] == i].sulphates\n",
    "plt.boxplot([x for x in quality_sulphates.values()],\n",
    "            labels=[x for x in quality_sulphates.keys()])\n",
    "#x and y-axis labels\n",
    "plt.xlabel('Quality')\n",
    "plt.ylabel('')\n",
    "#plot title\n",
    "plt.title('Sulphates')"
   ]
  },
  {
   "cell_type": "code",
   "execution_count": null,
   "metadata": {},
   "outputs": [
    {
     "data": {
      "text/plain": [
       "Text(0.5, 1.0, 'pH')"
      ]
     },
     "execution_count": 46,
     "metadata": {},
     "output_type": "execute_result"
    },
    {
     "data": {
      "image/png": "[encoded data removed]",
      "text/plain": [
       "<Figure size 432x288 with 1 Axes>"
      ]
     },
     "metadata": {
      "needs_background": "light"
     },
     "output_type": "display_data"
    }
   ],
   "source": [
    "quality_pH = {}\n",
    "for i in sorted:\n",
    "    quality_pH[i] = red_wine[red_wine['quality'] == i].pH\n",
    "plt.boxplot([x for x in quality_pH.values()],\n",
    "            labels=[x for x in quality_pH.keys()])\n",
    "#x and y-axis labels\n",
    "plt.xlabel('Quality')\n",
    "plt.ylabel('')\n",
    "#plot title\n",
    "plt.title('pH')"
   ]
  },
  {
   "cell_type": "code",
   "execution_count": null,
   "metadata": {},
   "outputs": [
    {
     "data": {
      "text/plain": [
       "Text(0.5, 1.0, 'Alcohol')"
      ]
     },
     "execution_count": 48,
     "metadata": {},
     "output_type": "execute_result"
    },
    {
     "data": {
      "image/png": "[encoded data removed]",
      "text/plain": [
       "<Figure size 432x288 with 1 Axes>"
      ]
     },
     "metadata": {
      "needs_background": "light"
     },
     "output_type": "display_data"
    }
   ],
   "source": [
    "quality_alcohol = {}\n",
    "for i in sorted:\n",
    "    quality_alcohol[i] = red_wine[red_wine['quality'] == i].alcohol\n",
    "plt.boxplot([x for x in quality_alcohol.values()],\n",
    "            labels=[x for x in quality_alcohol.keys()])\n",
    "#x and y-axis labels\n",
    "plt.xlabel('Quality')\n",
    "plt.ylabel('')\n",
    "#plot title\n",
    "plt.title('Alcohol')"
   ]
  },
  {
   "cell_type": "code",
   "execution_count": null,
   "metadata": {},
   "outputs": [],
   "source": [
    "#plt.figure(figsize=(6,4))\n",
    "#plt.plot(red_wine.alcohol)\n",
    "#plt.show()"
   ]
  },
  {
   "cell_type": "code",
   "execution_count": null,
   "metadata": {},
   "outputs": [],
   "source": [
    "#bins = [8,9,10,11,12,13,14,15]\n",
    "\n",
    "#plt.hist(red_wine.alcohol, bins=bins, color=\"red\")\n",
    "\n",
    "#plt.xticks(bins)\n",
    "\n",
    "#plt.ylabel(\"Number of red wines\")\n",
    "#plt.xlabel(\"Promille of alcohol\")\n",
    "#plt.title(\"Overview of alcohol\")\n",
    "\n",
    "#plt.show()"
   ]
  },
  {
   "cell_type": "code",
   "execution_count": null,
   "metadata": {},
   "outputs": [
    {
     "data": {
      "image/png": "[encoded data removed]",
      "text/plain": [
       "<Figure size 432x288 with 1 Axes>"
      ]
     },
     "metadata": {
      "needs_background": "light"
     },
     "output_type": "display_data"
    }
   ],
   "source": [
    "plt.plot( red_wine.quality, red_wine[\"residual sugar\"], \"o\")\n",
    "plt.ylabel(\"Residual sugar of alcohol\")\n",
    "plt.xlabel(\"Quality from 3 to 8\")\n",
    "plt.title(\"Overview of sugar in red wines\")\n",
    "plt.show()"
   ]
  },
  {
   "cell_type": "code",
   "execution_count": null,
   "metadata": {},
   "outputs": [
    {
     "data": {
      "image/png": "[encoded data removed]",
      "text/plain": [
       "<Figure size 432x288 with 1 Axes>"
      ]
     },
     "metadata": {
      "needs_background": "light"
     },
     "output_type": "display_data"
    }
   ],
   "source": [
    "plt.plot( red_wine.quality, red_wine.alcohol, \"o\")\n",
    "plt.ylabel(\"% of alcohol\")\n",
    "plt.xlabel(\"Quality from 3 to 8\")\n",
    "plt.title(\"Overview of alcohol in red wines\")\n",
    "plt.show()\n"
   ]
  },
  {
   "cell_type": "code",
   "execution_count": null,
   "metadata": {},
   "outputs": [
    {
     "data": {
      "image/png": "[encoded data removed]",
      "text/plain": [
       "<Figure size 432x288 with 1 Axes>"
      ]
     },
     "metadata": {
      "needs_background": "light"
     },
     "output_type": "display_data"
    }
   ],
   "source": [
    "plt.plot( red_wine.quality, red_wine.sulphates, \"o\")\n",
    "plt.ylabel(\"Sulphates of alcohol\")\n",
    "plt.xlabel(\"Quality from 3 to 8\")\n",
    "plt.title(\"Overview of sulphates in red wines\")\n",
    "plt.show()"
   ]
  },
  {
   "cell_type": "code",
   "execution_count": null,
   "metadata": {},
   "outputs": [
    {
     "data": {
      "image/png": "[encoded data removed]",
      "text/plain": [
       "<Figure size 432x288 with 1 Axes>"
      ]
     },
     "metadata": {
      "needs_background": "light"
     },
     "output_type": "display_data"
    }
   ],
   "source": [
    "plt.plot( red_wine.quality, red_wine.density, \"o\")\n",
    "plt.ylabel(\"density of alcohol\")\n",
    "plt.xlabel(\"Quality from 3 to 8\")\n",
    "plt.title(\"Overview of density in red wines\")\n",
    "plt.show()"
   ]
  },
  {
   "cell_type": "code",
   "execution_count": null,
   "metadata": {},
   "outputs": [
    {
     "data": {
      "image/png": "[encoded data removed]",
      "text/plain": [
       "<Figure size 432x288 with 1 Axes>"
      ]
     },
     "metadata": {
      "needs_background": "light"
     },
     "output_type": "display_data"
    }
   ],
   "source": [
    "plt.plot( red_wine.quality, red_wine.pH, \"o\")\n",
    "plt.ylabel(\"pH of alcohol\")\n",
    "plt.xlabel(\"Quality from 3 to 8\")\n",
    "plt.title(\"Overview of pH in red wines\")\n",
    "plt.show()"
   ]
  },
  {
   "cell_type": "code",
   "execution_count": null,
   "metadata": {},
   "outputs": [
    {
     "data": {
      "image/png": "[encoded data removed]",
      "text/plain": [
       "<Figure size 432x288 with 1 Axes>"
      ]
     },
     "metadata": {
      "needs_background": "light"
     },
     "output_type": "display_data"
    }
   ],
   "source": [
    "plt.plot( red_wine.quality, red_wine.chlorides, \"o\")\n",
    "plt.ylabel(\"Chlorides\")\n",
    "plt.xlabel(\"Quality from 3 to 8\")\n",
    "plt.title(\"Overview of chlorides in red wines\")\n",
    "plt.show()"
   ]
  },
  {
   "cell_type": "code",
   "execution_count": null,
   "metadata": {},
   "outputs": [
    {
     "data": {
      "text/html": [
       "<div>\n",
       "<style scoped>\n",
       "    .dataframe tbody tr th:only-of-type {\n",
       "        vertical-align: middle;\n",
       "    }\n",
       "\n",
       "    .dataframe tbody tr th {\n",
       "        vertical-align: top;\n",
       "    }\n",
       "\n",
       "    .dataframe thead th {\n",
       "        text-align: right;\n",
       "    }\n",
       "</style>\n",
       "<table border=\"1\" class=\"dataframe\">\n",
       "  <thead>\n",
       "    <tr style=\"text-align: right;\">\n",
       "      <th></th>\n",
       "      <th>fixed acidity</th>\n",
       "      <th>volatile acidity</th>\n",
       "      <th>citric acid</th>\n",
       "      <th>residual sugar</th>\n",
       "      <th>chlorides</th>\n",
       "      <th>free sulfur dioxide</th>\n",
       "      <th>total sulfur dioxide</th>\n",
       "      <th>density</th>\n",
       "      <th>pH</th>\n",
       "      <th>sulphates</th>\n",
       "      <th>alcohol</th>\n",
       "      <th>quality</th>\n",
       "      <th>quality_label</th>\n",
       "    </tr>\n",
       "  </thead>\n",
       "  <tbody>\n",
       "    <tr>\n",
       "      <th>7</th>\n",
       "      <td>7.3</td>\n",
       "      <td>0.65</td>\n",
       "      <td>0.00</td>\n",
       "      <td>1.2</td>\n",
       "      <td>0.065</td>\n",
       "      <td>15.0</td>\n",
       "      <td>21.0</td>\n",
       "      <td>0.99460</td>\n",
       "      <td>3.39</td>\n",
       "      <td>0.47</td>\n",
       "      <td>10.00</td>\n",
       "      <td>7</td>\n",
       "      <td>high</td>\n",
       "    </tr>\n",
       "    <tr>\n",
       "      <th>8</th>\n",
       "      <td>7.8</td>\n",
       "      <td>0.58</td>\n",
       "      <td>0.02</td>\n",
       "      <td>2.0</td>\n",
       "      <td>0.073</td>\n",
       "      <td>9.0</td>\n",
       "      <td>18.0</td>\n",
       "      <td>0.99680</td>\n",
       "      <td>3.36</td>\n",
       "      <td>0.57</td>\n",
       "      <td>9.50</td>\n",
       "      <td>7</td>\n",
       "      <td>high</td>\n",
       "    </tr>\n",
       "    <tr>\n",
       "      <th>16</th>\n",
       "      <td>8.5</td>\n",
       "      <td>0.28</td>\n",
       "      <td>0.56</td>\n",
       "      <td>1.8</td>\n",
       "      <td>0.092</td>\n",
       "      <td>35.0</td>\n",
       "      <td>103.0</td>\n",
       "      <td>0.99690</td>\n",
       "      <td>3.30</td>\n",
       "      <td>0.75</td>\n",
       "      <td>10.50</td>\n",
       "      <td>7</td>\n",
       "      <td>high</td>\n",
       "    </tr>\n",
       "    <tr>\n",
       "      <th>37</th>\n",
       "      <td>8.1</td>\n",
       "      <td>0.38</td>\n",
       "      <td>0.28</td>\n",
       "      <td>2.1</td>\n",
       "      <td>0.066</td>\n",
       "      <td>13.0</td>\n",
       "      <td>30.0</td>\n",
       "      <td>0.99680</td>\n",
       "      <td>3.23</td>\n",
       "      <td>0.73</td>\n",
       "      <td>9.70</td>\n",
       "      <td>7</td>\n",
       "      <td>high</td>\n",
       "    </tr>\n",
       "    <tr>\n",
       "      <th>62</th>\n",
       "      <td>7.5</td>\n",
       "      <td>0.52</td>\n",
       "      <td>0.16</td>\n",
       "      <td>1.9</td>\n",
       "      <td>0.085</td>\n",
       "      <td>12.0</td>\n",
       "      <td>35.0</td>\n",
       "      <td>0.99680</td>\n",
       "      <td>3.38</td>\n",
       "      <td>0.62</td>\n",
       "      <td>9.50</td>\n",
       "      <td>7</td>\n",
       "      <td>high</td>\n",
       "    </tr>\n",
       "    <tr>\n",
       "      <th>...</th>\n",
       "      <td>...</td>\n",
       "      <td>...</td>\n",
       "      <td>...</td>\n",
       "      <td>...</td>\n",
       "      <td>...</td>\n",
       "      <td>...</td>\n",
       "      <td>...</td>\n",
       "      <td>...</td>\n",
       "      <td>...</td>\n",
       "      <td>...</td>\n",
       "      <td>...</td>\n",
       "      <td>...</td>\n",
       "      <td>...</td>\n",
       "    </tr>\n",
       "    <tr>\n",
       "      <th>1541</th>\n",
       "      <td>7.4</td>\n",
       "      <td>0.25</td>\n",
       "      <td>0.29</td>\n",
       "      <td>2.2</td>\n",
       "      <td>0.054</td>\n",
       "      <td>19.0</td>\n",
       "      <td>49.0</td>\n",
       "      <td>0.99666</td>\n",
       "      <td>3.40</td>\n",
       "      <td>0.76</td>\n",
       "      <td>10.90</td>\n",
       "      <td>7</td>\n",
       "      <td>high</td>\n",
       "    </tr>\n",
       "    <tr>\n",
       "      <th>1544</th>\n",
       "      <td>8.4</td>\n",
       "      <td>0.37</td>\n",
       "      <td>0.43</td>\n",
       "      <td>2.3</td>\n",
       "      <td>0.063</td>\n",
       "      <td>12.0</td>\n",
       "      <td>19.0</td>\n",
       "      <td>0.99550</td>\n",
       "      <td>3.17</td>\n",
       "      <td>0.81</td>\n",
       "      <td>11.20</td>\n",
       "      <td>7</td>\n",
       "      <td>high</td>\n",
       "    </tr>\n",
       "    <tr>\n",
       "      <th>1549</th>\n",
       "      <td>7.4</td>\n",
       "      <td>0.36</td>\n",
       "      <td>0.30</td>\n",
       "      <td>1.8</td>\n",
       "      <td>0.074</td>\n",
       "      <td>17.0</td>\n",
       "      <td>24.0</td>\n",
       "      <td>0.99419</td>\n",
       "      <td>3.24</td>\n",
       "      <td>0.70</td>\n",
       "      <td>11.40</td>\n",
       "      <td>8</td>\n",
       "      <td>high</td>\n",
       "    </tr>\n",
       "    <tr>\n",
       "      <th>1555</th>\n",
       "      <td>7.0</td>\n",
       "      <td>0.56</td>\n",
       "      <td>0.17</td>\n",
       "      <td>1.7</td>\n",
       "      <td>0.065</td>\n",
       "      <td>15.0</td>\n",
       "      <td>24.0</td>\n",
       "      <td>0.99514</td>\n",
       "      <td>3.44</td>\n",
       "      <td>0.68</td>\n",
       "      <td>10.55</td>\n",
       "      <td>7</td>\n",
       "      <td>high</td>\n",
       "    </tr>\n",
       "    <tr>\n",
       "      <th>1584</th>\n",
       "      <td>6.7</td>\n",
       "      <td>0.32</td>\n",
       "      <td>0.44</td>\n",
       "      <td>2.4</td>\n",
       "      <td>0.061</td>\n",
       "      <td>24.0</td>\n",
       "      <td>34.0</td>\n",
       "      <td>0.99484</td>\n",
       "      <td>3.29</td>\n",
       "      <td>0.80</td>\n",
       "      <td>11.60</td>\n",
       "      <td>7</td>\n",
       "      <td>high</td>\n",
       "    </tr>\n",
       "  </tbody>\n",
       "</table>\n",
       "<p>217 rows × 13 columns</p>\n",
       "</div>"
      ],
      "text/plain": [
       "      fixed acidity  volatile acidity  citric acid  residual sugar  chlorides  \\\n",
       "7               7.3              0.65         0.00             1.2      0.065   \n",
       "8               7.8              0.58         0.02             2.0      0.073   \n",
       "16              8.5              0.28         0.56             1.8      0.092   \n",
       "37              8.1              0.38         0.28             2.1      0.066   \n",
       "62              7.5              0.52         0.16             1.9      0.085   \n",
       "...             ...               ...          ...             ...        ...   \n",
       "1541            7.4              0.25         0.29             2.2      0.054   \n",
       "1544            8.4              0.37         0.43             2.3      0.063   \n",
       "1549            7.4              0.36         0.30             1.8      0.074   \n",
       "1555            7.0              0.56         0.17             1.7      0.065   \n",
       "1584            6.7              0.32         0.44             2.4      0.061   \n",
       "\n",
       "      free sulfur dioxide  total sulfur dioxide  density    pH  sulphates  \\\n",
       "7                    15.0                  21.0  0.99460  3.39       0.47   \n",
       "8                     9.0                  18.0  0.99680  3.36       0.57   \n",
       "16                   35.0                 103.0  0.99690  3.30       0.75   \n",
       "37                   13.0                  30.0  0.99680  3.23       0.73   \n",
       "62                   12.0                  35.0  0.99680  3.38       0.62   \n",
       "...                   ...                   ...      ...   ...        ...   \n",
       "1541                 19.0                  49.0  0.99666  3.40       0.76   \n",
       "1544                 12.0                  19.0  0.99550  3.17       0.81   \n",
       "1549                 17.0                  24.0  0.99419  3.24       0.70   \n",
       "1555                 15.0                  24.0  0.99514  3.44       0.68   \n",
       "1584                 24.0                  34.0  0.99484  3.29       0.80   \n",
       "\n",
       "      alcohol  quality quality_label  \n",
       "7       10.00        7          high  \n",
       "8        9.50        7          high  \n",
       "16      10.50        7          high  \n",
       "37       9.70        7          high  \n",
       "62       9.50        7          high  \n",
       "...       ...      ...           ...  \n",
       "1541    10.90        7          high  \n",
       "1544    11.20        7          high  \n",
       "1549    11.40        8          high  \n",
       "1555    10.55        7          high  \n",
       "1584    11.60        7          high  \n",
       "\n",
       "[217 rows x 13 columns]"
      ]
     },
     "execution_count": 30,
     "metadata": {},
     "output_type": "execute_result"
    }
   ],
   "source": [
    "medium_red = red_wine[red_wine.quality_label == \"medium\"]\n",
    "high_red = red_wine[red_wine.quality_label == \"high\"]\n",
    "low_red = red_wine[red_wine.quality_label == \"low\"]\n",
    "\n",
    "high_red"
   ]
  },
  {
   "cell_type": "code",
   "execution_count": null,
   "metadata": {},
   "outputs": [],
   "source": [
    "#plt.plot(medium_red.alcohol, medium_red.chlorides, \"o\")\n",
    "#plt.legend([\"Alcohol\", \"Chlorides\"])\n",
    "#plt.xlabel(\"alcohol in promille\")\n",
    "#plt.ylabel(\"chloride amount\")\n",
    "#plt.plot(medium_red.alcohol,medium_red.alcohol / 10**6)\n",
    "#plt.plot(medium_red.chlorides,medium_red.chlorides / 10**6)"
   ]
  },
  {
   "cell_type": "code",
   "execution_count": null,
   "metadata": {},
   "outputs": [],
   "source": [
    "#plt.plot(medium_red.alcohol, medium_red.quality_label,\"+\", high_red.alcohol, high_red.quality_label, \"o\")\n",
    "#plt.xlabel(\"alcohol in promille\")\n"
   ]
  },
  {
   "cell_type": "code",
   "execution_count": null,
   "metadata": {},
   "outputs": [],
   "source": [
    "#hist multiple variables\n",
    "\n",
    "#high_red.alcohol.plot.hist(bins=40, figsize=(10,8))\n",
    "#high_red.density.plot.hist()\n",
    "#high_red.pH.plot.hist()\n",
    "\n"
   ]
  },
  {
   "cell_type": "code",
   "execution_count": null,
   "metadata": {},
   "outputs": [
    {
     "data": {
      "text/html": [
       "<div>\n",
       "<style scoped>\n",
       "    .dataframe tbody tr th:only-of-type {\n",
       "        vertical-align: middle;\n",
       "    }\n",
       "\n",
       "    .dataframe tbody tr th {\n",
       "        vertical-align: top;\n",
       "    }\n",
       "\n",
       "    .dataframe thead th {\n",
       "        text-align: right;\n",
       "    }\n",
       "</style>\n",
       "<table border=\"1\" class=\"dataframe\">\n",
       "  <thead>\n",
       "    <tr style=\"text-align: right;\">\n",
       "      <th></th>\n",
       "      <th>alcohol</th>\n",
       "      <th>residual sugar</th>\n",
       "      <th>density</th>\n",
       "      <th>chlorides</th>\n",
       "      <th>pH</th>\n",
       "      <th>sulphates</th>\n",
       "      <th>quality_label</th>\n",
       "    </tr>\n",
       "  </thead>\n",
       "  <tbody>\n",
       "    <tr>\n",
       "      <th>0</th>\n",
       "      <td>9.4</td>\n",
       "      <td>1.9</td>\n",
       "      <td>0.99780</td>\n",
       "      <td>0.076</td>\n",
       "      <td>3.51</td>\n",
       "      <td>0.56</td>\n",
       "      <td>medium</td>\n",
       "    </tr>\n",
       "    <tr>\n",
       "      <th>1</th>\n",
       "      <td>9.8</td>\n",
       "      <td>2.6</td>\n",
       "      <td>0.99680</td>\n",
       "      <td>0.098</td>\n",
       "      <td>3.20</td>\n",
       "      <td>0.68</td>\n",
       "      <td>medium</td>\n",
       "    </tr>\n",
       "    <tr>\n",
       "      <th>2</th>\n",
       "      <td>9.8</td>\n",
       "      <td>2.3</td>\n",
       "      <td>0.99700</td>\n",
       "      <td>0.092</td>\n",
       "      <td>3.26</td>\n",
       "      <td>0.65</td>\n",
       "      <td>medium</td>\n",
       "    </tr>\n",
       "    <tr>\n",
       "      <th>3</th>\n",
       "      <td>9.8</td>\n",
       "      <td>1.9</td>\n",
       "      <td>0.99800</td>\n",
       "      <td>0.075</td>\n",
       "      <td>3.16</td>\n",
       "      <td>0.58</td>\n",
       "      <td>medium</td>\n",
       "    </tr>\n",
       "    <tr>\n",
       "      <th>4</th>\n",
       "      <td>9.4</td>\n",
       "      <td>1.9</td>\n",
       "      <td>0.99780</td>\n",
       "      <td>0.076</td>\n",
       "      <td>3.51</td>\n",
       "      <td>0.56</td>\n",
       "      <td>medium</td>\n",
       "    </tr>\n",
       "    <tr>\n",
       "      <th>...</th>\n",
       "      <td>...</td>\n",
       "      <td>...</td>\n",
       "      <td>...</td>\n",
       "      <td>...</td>\n",
       "      <td>...</td>\n",
       "      <td>...</td>\n",
       "      <td>...</td>\n",
       "    </tr>\n",
       "    <tr>\n",
       "      <th>1594</th>\n",
       "      <td>10.5</td>\n",
       "      <td>2.0</td>\n",
       "      <td>0.99490</td>\n",
       "      <td>0.090</td>\n",
       "      <td>3.45</td>\n",
       "      <td>0.58</td>\n",
       "      <td>medium</td>\n",
       "    </tr>\n",
       "    <tr>\n",
       "      <th>1595</th>\n",
       "      <td>11.2</td>\n",
       "      <td>2.2</td>\n",
       "      <td>0.99512</td>\n",
       "      <td>0.062</td>\n",
       "      <td>3.52</td>\n",
       "      <td>0.76</td>\n",
       "      <td>medium</td>\n",
       "    </tr>\n",
       "    <tr>\n",
       "      <th>1596</th>\n",
       "      <td>11.0</td>\n",
       "      <td>2.3</td>\n",
       "      <td>0.99574</td>\n",
       "      <td>0.076</td>\n",
       "      <td>3.42</td>\n",
       "      <td>0.75</td>\n",
       "      <td>medium</td>\n",
       "    </tr>\n",
       "    <tr>\n",
       "      <th>1597</th>\n",
       "      <td>10.2</td>\n",
       "      <td>2.0</td>\n",
       "      <td>0.99547</td>\n",
       "      <td>0.075</td>\n",
       "      <td>3.57</td>\n",
       "      <td>0.71</td>\n",
       "      <td>medium</td>\n",
       "    </tr>\n",
       "    <tr>\n",
       "      <th>1598</th>\n",
       "      <td>11.0</td>\n",
       "      <td>3.6</td>\n",
       "      <td>0.99549</td>\n",
       "      <td>0.067</td>\n",
       "      <td>3.39</td>\n",
       "      <td>0.66</td>\n",
       "      <td>medium</td>\n",
       "    </tr>\n",
       "  </tbody>\n",
       "</table>\n",
       "<p>1599 rows × 7 columns</p>\n",
       "</div>"
      ],
      "text/plain": [
       "      alcohol  residual sugar  density  chlorides    pH  sulphates  \\\n",
       "0         9.4             1.9  0.99780      0.076  3.51       0.56   \n",
       "1         9.8             2.6  0.99680      0.098  3.20       0.68   \n",
       "2         9.8             2.3  0.99700      0.092  3.26       0.65   \n",
       "3         9.8             1.9  0.99800      0.075  3.16       0.58   \n",
       "4         9.4             1.9  0.99780      0.076  3.51       0.56   \n",
       "...       ...             ...      ...        ...   ...        ...   \n",
       "1594     10.5             2.0  0.99490      0.090  3.45       0.58   \n",
       "1595     11.2             2.2  0.99512      0.062  3.52       0.76   \n",
       "1596     11.0             2.3  0.99574      0.076  3.42       0.75   \n",
       "1597     10.2             2.0  0.99547      0.075  3.57       0.71   \n",
       "1598     11.0             3.6  0.99549      0.067  3.39       0.66   \n",
       "\n",
       "     quality_label  \n",
       "0           medium  \n",
       "1           medium  \n",
       "2           medium  \n",
       "3           medium  \n",
       "4           medium  \n",
       "...            ...  \n",
       "1594        medium  \n",
       "1595        medium  \n",
       "1596        medium  \n",
       "1597        medium  \n",
       "1598        medium  \n",
       "\n",
       "[1599 rows x 7 columns]"
      ]
     },
     "execution_count": 34,
     "metadata": {},
     "output_type": "execute_result"
    }
   ],
   "source": [
    "red_wine[[\"alcohol\", \"residual sugar\", \"density\", \"chlorides\", \"pH\", \"sulphates\", \"quality_label\"]]"
   ]
  },
  {
   "cell_type": "code",
   "execution_count": null,
   "metadata": {},
   "outputs": [],
   "source": [
    "#red_wine[[\"alcohol\", \"residual sugar\", \"quality_label\"]].plot.hist(bins=40, figsize=(10,6), alpha=0.6, sharex=True, sharey=True)\n",
    "#plt.show"
   ]
  },
  {
   "cell_type": "code",
   "execution_count": null,
   "metadata": {},
   "outputs": [],
   "source": [
    "#red_wine[[\"alcohol\", \"residual sugar\", \"quality_label\"]].hist(bins=40, figsize=(12,8), alpha=0.6,grid=False, rwidth=0.8, sharex=True, sharey=True)\n"
   ]
  },
  {
   "cell_type": "code",
   "execution_count": null,
   "metadata": {},
   "outputs": [],
   "source": [
    "#high_red.hist(column=\"alcohol\",by=\"density\", bins=15,figsize=(12,8),alpha=0.6,grid=False,rwidth=0.8, sharex=True, sharey=True) \n",
    "\n",
    "\n",
    "#plt.show()"
   ]
  },
  {
   "cell_type": "code",
   "execution_count": null,
   "metadata": {},
   "outputs": [
    {
     "data": {
      "text/plain": [
       "<function matplotlib.pyplot.show(close=None, block=None)>"
      ]
     },
     "execution_count": 38,
     "metadata": {},
     "output_type": "execute_result"
    },
    {
     "data": {
      "image/png": "[encoded data removed]",
      "text/plain": [
       "<Figure size 432x288 with 1 Axes>"
      ]
     },
     "metadata": {
      "needs_background": "light"
     },
     "output_type": "display_data"
    }
   ],
   "source": [
    "#plt.boxplot(red_wine[\"pH\"])\n",
    "#plt.boxplot(medium_red[\"pH\"])\n",
    "plt.boxplot(high_red[\"pH\"])\n",
    "plt.show"
   ]
  },
  {
   "cell_type": "code",
   "execution_count": null,
   "metadata": {},
   "outputs": [
    {
     "data": {
      "image/png": "[encoded data removed]",
      "text/plain": [
       "<Figure size 432x288 with 1 Axes>"
      ]
     },
     "metadata": {
      "needs_background": "light"
     },
     "output_type": "display_data"
    }
   ],
   "source": [
    "data = [medium_red[\"pH\"], medium_red[\"residual sugar\"], medium_red[\"alcohol\"]]\n",
    "plt.boxplot(data)\n",
    "plt.show()"
   ]
  },
  {
   "cell_type": "code",
   "execution_count": null,
   "metadata": {},
   "outputs": [
    {
     "data": {
      "image/png": "[encoded data removed]",
      "text/plain": [
       "<Figure size 576x432 with 1 Axes>"
      ]
     },
     "metadata": {
      "needs_background": "light"
     },
     "output_type": "display_data"
    }
   ],
   "source": [
    "plt.figure(figsize=(8,6))\n",
    "plt.boxplot(data, notch = True, patch_artist=True, labels = [\"quality\", \"residual sugar\", \"alcohol\"])\n",
    "plt.show()"
   ]
  },
  {
   "cell_type": "code",
   "execution_count": null,
   "metadata": {},
   "outputs": [
    {
     "data": {
      "image/png": "[encoded data removed]",
      "text/plain": [
       "<Figure size 576x432 with 1 Axes>"
      ]
     },
     "metadata": {
      "needs_background": "light"
     },
     "output_type": "display_data"
    }
   ],
   "source": [
    "plt.figure(figsize=(8,6))\n",
    "box = plt.boxplot(data, vert=0, notch = True, patch_artist=True, labels = [\"pH\", \"residual sugar\", \"alcohol\"])\n",
    "colors = [\"blue\", \"red\", \"green\"]\n",
    "for patch, color in zip(box[\"boxes\"], colors):\n",
    "    patch.set_facecolor(color)\n",
    "plt.show()"
   ]
  }
 ],
 "metadata": {
  "kernelspec": {
   "display_name": "Python 3.9.12 ('base')",
   "language": "python",
   "name": "python3"
  },
  "language_info": {
   "codemirror_mode": {
    "name": "ipython",
    "version": 3
   },
   "file_extension": ".py",
   "mimetype": "text/x-python",
   "name": "python",
   "nbconvert_exporter": "python",
   "pygments_lexer": "ipython3",
   "version": "3.9.12"
  },
  "orig_nbformat": 4,
  "vscode": {
   "interpreter": {
    "hash": "53268d429fe8007277d58353424377c3c56a51408f44f169cee4649a7ccfd4de"
   }
  }
 },
 "nbformat": 4,
 "nbformat_minor": 2
}
